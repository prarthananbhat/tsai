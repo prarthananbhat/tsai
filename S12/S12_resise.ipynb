{
  "nbformat": 4,
  "nbformat_minor": 0,
  "metadata": {
    "colab": {
      "name": "S12_resise.ipynb",
      "provenance": [],
      "collapsed_sections": []
    },
    "kernelspec": {
      "name": "python3",
      "display_name": "Python 3"
    }
  },
  "cells": [
    {
      "cell_type": "code",
      "metadata": {
        "id": "OT0kcoc906lu",
        "colab_type": "code",
        "colab": {}
      },
      "source": [
        "import cv2\n",
        "import os\n",
        "import matplotlib.pyplot as plt\n",
        "\n",
        "def custom_resize(desired_size = 128, path = ''):\n",
        "  im = cv2.imread(path)\n",
        "  old_size = im.shape[:2] # old_size is in (height, width) format\n",
        "\n",
        "  ratio = float(desired_size)/max(old_size)\n",
        "  new_size = tuple([int(x*ratio) for x in old_size])\n",
        "\n",
        "  # new_size should be in (width, height) format\n",
        "\n",
        "  im = cv2.resize(im, (new_size[1], new_size[0]))\n",
        "\n",
        "  delta_w = desired_size - new_size[1]\n",
        "  delta_h = desired_size - new_size[0]\n",
        "  top, bottom = delta_h//2, delta_h-(delta_h//2)\n",
        "  left, right = delta_w//2, delta_w-(delta_w//2)\n",
        "\n",
        "  color = [0, 0, 0]\n",
        "  new_im = cv2.copyMakeBorder(im, top, bottom, left, right, cv2.BORDER_CONSTANT,\n",
        "      value=color)\n",
        "  new_im = cv2.cvtColor(new_im, cv2.COLOR_BGR2RGB)\n",
        "  return new_im\n"
      ],
      "execution_count": 0,
      "outputs": []
    },
    {
      "cell_type": "code",
      "metadata": {
        "id": "2FiuaFPV4tmx",
        "colab_type": "code",
        "colab": {}
      },
      "source": [
        "def main():\n",
        "  out_path = 'drive/My Drive/dog_images_resize/'\n",
        "  in_path = 'drive/My Drive/dog_images/'\n",
        "  image_file_names = os.listdir(in_path)\n",
        "  for file in image_file_names:\n",
        "    print(\"Formatting file \",file)\n",
        "    desired_size = 128\n",
        "    img_path = in_path+file\n",
        "    r_image = custom_resize(300,img_path)\n",
        "    r_image_name = file.split(\".\")[0]\n",
        "    cv2.imwrite(out_path+r_image_name+'.jpg',cv2.cvtColor(r_image, cv2.COLOR_BGR2RGB))"
      ],
      "execution_count": 0,
      "outputs": []
    },
    {
      "cell_type": "code",
      "metadata": {
        "id": "clGATcXb7Mp9",
        "colab_type": "code",
        "outputId": "5c44ed9e-9a5b-4e08-8706-bb2ed57b73fb",
        "colab": {
          "base_uri": "https://localhost:8080/",
          "height": 899
        }
      },
      "source": [
        "if __name__ == \"__main__\":\n",
        "  main()"
      ],
      "execution_count": 0,
      "outputs": [
        {
          "output_type": "stream",
          "text": [
            "Formatting file  dog_2.jpeg\n",
            "Formatting file  dog_3.jfif\n",
            "Formatting file  dog_4.jfif\n",
            "Formatting file  dog_5.jfif\n",
            "Formatting file  dog_6.jfif\n",
            "Formatting file  dog_1.jfif\n",
            "Formatting file  dog_7.jfif\n",
            "Formatting file  dog_8.jfif\n",
            "Formatting file  dog_9.jfif\n",
            "Formatting file  dog_10.jfif\n",
            "Formatting file  dog_11.jfif\n",
            "Formatting file  dog_34.jfif\n",
            "Formatting file  dog_27.jfif\n",
            "Formatting file  dog_30.jfif\n",
            "Formatting file  dog_49.jfif\n",
            "Formatting file  dog_28.jfif\n",
            "Formatting file  dog_40.jfif\n",
            "Formatting file  dog_21.jfif\n",
            "Formatting file  dog_29.jfif\n",
            "Formatting file  dog_33.jfif\n",
            "Formatting file  dog_12.jfif\n",
            "Formatting file  dog_31.jfif\n",
            "Formatting file  dog_18.jfif\n",
            "Formatting file  dog_48.jfif\n",
            "Formatting file  dog_20.jfif\n",
            "Formatting file  dog_35.jfif\n",
            "Formatting file  dog_45.jfif\n",
            "Formatting file  dog_37.jfif\n",
            "Formatting file  dog_19.jfif\n",
            "Formatting file  dog_22.jfif\n",
            "Formatting file  dog_42.jfif\n",
            "Formatting file  dog_16.jfif\n",
            "Formatting file  dog_47.jfif\n",
            "Formatting file  dog_44.jfif\n",
            "Formatting file  dog_39.jfif\n",
            "Formatting file  dog_38.jfif\n",
            "Formatting file  dog_32.jfif\n",
            "Formatting file  dog_17.jfif\n",
            "Formatting file  dog_46.jfif\n",
            "Formatting file  dog_50.jfif\n",
            "Formatting file  dog_36.jfif\n",
            "Formatting file  dog_14.jfif\n",
            "Formatting file  dog_24.jfif\n",
            "Formatting file  dog_23.jfif\n",
            "Formatting file  dog_26.jfif\n",
            "Formatting file  dog_13.jfif\n",
            "Formatting file  dog_41.jfif\n",
            "Formatting file  dog_43.jfif\n",
            "Formatting file  dog_25.jfif\n",
            "Formatting file  dog_15.jfif\n"
          ],
          "name": "stdout"
        }
      ]
    },
    {
      "cell_type": "code",
      "metadata": {
        "id": "sUp0MOa99DXV",
        "colab_type": "code",
        "colab": {}
      },
      "source": [
        ""
      ],
      "execution_count": 0,
      "outputs": []
    }
  ]
}