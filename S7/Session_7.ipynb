{
  "nbformat": 4,
  "nbformat_minor": 0,
  "metadata": {
    "colab": {
      "name": "Session_7.ipynb",
      "provenance": []
    },
    "kernelspec": {
      "name": "python3",
      "display_name": "Python 3"
    },
    "accelerator": "GPU"
  },
  "cells": [
    {
      "cell_type": "code",
      "metadata": {
        "id": "Hb8FQn9k_dn6",
        "colab_type": "code",
        "colab": {
          "base_uri": "https://localhost:8080/",
          "height": 1000
        },
        "outputId": "18af88c4-05e6-4495-bf55-caed491d5948"
      },
      "source": [
        "\n",
        "import torch\n",
        "import torch.optim as optim\n",
        "import torch.nn as nn\n",
        "import torch.nn.functional as F\n",
        "from torchsummary import summary\n",
        "\n",
        "from tqdm import tqdm\n",
        "from model import Net\n",
        "from data_loader import get_train_loader\n",
        "from data_loader import get_test_loader\n",
        "\n",
        "use_cuda = torch.cuda.is_available()\n",
        "device = torch.device(\"cuda\" if use_cuda else \"cpu\")\n",
        "torch.manual_seed(10)\n",
        "batch_size = 128\n",
        "EPOCHS=30\n",
        "LAMBDA=0.1\n",
        "kwargs = {'num_workers': 1, 'pin_memory': True} if use_cuda else {}\n",
        "\n",
        "\n",
        "\n",
        "model = Net().to(device)\n",
        "summary(model, input_size=(3, 32, 32))\n",
        "\n",
        "\n",
        "\n",
        "train_losses = []\n",
        "test_losses = []\n",
        "train_acc = []\n",
        "test_acc = []\n",
        "\n",
        "train_loader = get_train_loader()\n",
        "test_loader = get_test_loader()\n",
        "\n",
        "def train(model, device, train_loader, optimizer, epoch):\n",
        "    model.train()\n",
        "    pbar = tqdm(train_loader)\n",
        "    correct = 0\n",
        "    processed = 0\n",
        "    for batch_idx, (data, target) in enumerate(pbar):\n",
        "        data, target = data.to(device), target.to(device)\n",
        "\n",
        "        optimizer.zero_grad()\n",
        "        y_pred = model(data)\n",
        "\n",
        "        # Calculate loss\n",
        "        criteria = nn.CrossEntropyLoss()\n",
        "        loss = criteria(y_pred, target)\n",
        "        train_losses.append(loss)\n",
        "\n",
        "        # Backpropagation\n",
        "        loss.backward()\n",
        "        optimizer.step()\n",
        "\n",
        "        pred = y_pred.argmax(dim=1, keepdim=True)  # get the index of the max log-probability\n",
        "        correct += pred.eq(target.view_as(pred)).sum().item()\n",
        "        processed += len(data)\n",
        "\n",
        "        pbar.set_description(desc=f'Loss={loss.item()} Batch_id={batch_idx} Accuracy={100 * correct / processed:0.2f}')\n",
        "        train_acc.append(100 * correct / processed)\n",
        "\n",
        "\n",
        "def test(model, device, test_loader):\n",
        "    model.eval()\n",
        "    test_loss = 0\n",
        "    correct = 0\n",
        "    with torch.no_grad():\n",
        "        for data, target in test_loader:\n",
        "            data, target = data.to(device), target.to(device)\n",
        "            output = model(data)\n",
        "            test_loss += F.nll_loss(output, target, reduction='sum').item()  # sum up batch loss\n",
        "            pred = output.argmax(dim=1, keepdim=True)  # get the index of the max log-probability\n",
        "            correct += pred.eq(target.view_as(pred)).sum().item()\n",
        "\n",
        "    test_loss /= len(test_loader.dataset)\n",
        "    test_losses.append(test_loss)\n",
        "\n",
        "    print('\\nTest set: Average loss: {:.4f}, Accuracy: {}/{} ({:.2f}%)\\n'.format(\n",
        "        test_loss, correct, len(test_loader.dataset),\n",
        "        100. * correct / len(test_loader.dataset)))\n",
        "\n",
        "    test_acc.append(100. * correct / len(test_loader.dataset))\n",
        "\n",
        "\n",
        "from torch.optim.lr_scheduler import StepLR\n",
        "model = Net().to(device)\n",
        "optimizer = optim.SGD(model.parameters(), lr=0.01, momentum=0.9,nesterov=False)\n",
        "#scheduler = StepLR(optimizer, step_size=8, gamma=0.1)\n",
        "for epoch in range(EPOCHS):\n",
        "    print('Epoch:', epoch+1)\n",
        "    train(model, device, train_loader, optimizer, epoch)\n",
        "    #scheduler.step()\n",
        "    test(model, device, test_loader)"
      ],
      "execution_count": 4,
      "outputs": [
        {
          "output_type": "stream",
          "text": [
            "----------------------------------------------------------------\n",
            "        Layer (type)               Output Shape         Param #\n",
            "================================================================\n",
            "            Conv2d-1           [-1, 32, 30, 30]             864\n",
            "       BatchNorm2d-2           [-1, 32, 30, 30]              64\n",
            "              ReLU-3           [-1, 32, 30, 30]               0\n",
            "           Dropout-4           [-1, 32, 30, 30]               0\n",
            "            Conv2d-5           [-1, 64, 28, 28]          18,432\n",
            "       BatchNorm2d-6           [-1, 64, 28, 28]             128\n",
            "              ReLU-7           [-1, 64, 28, 28]               0\n",
            "           Dropout-8           [-1, 64, 28, 28]               0\n",
            "            Conv2d-9          [-1, 128, 26, 26]          73,728\n",
            "      BatchNorm2d-10          [-1, 128, 26, 26]             256\n",
            "             ReLU-11          [-1, 128, 26, 26]               0\n",
            "          Dropout-12          [-1, 128, 26, 26]               0\n",
            "           Conv2d-13          [-1, 230, 24, 24]         264,960\n",
            "      BatchNorm2d-14          [-1, 230, 24, 24]             460\n",
            "             ReLU-15          [-1, 230, 24, 24]               0\n",
            "          Dropout-16          [-1, 230, 24, 24]               0\n",
            "           Conv2d-17           [-1, 32, 24, 24]           7,360\n",
            "             ReLU-18           [-1, 32, 24, 24]               0\n",
            "        MaxPool2d-19           [-1, 32, 12, 12]               0\n",
            "           Conv2d-20           [-1, 64, 10, 10]          18,432\n",
            "      BatchNorm2d-21           [-1, 64, 10, 10]             128\n",
            "             ReLU-22           [-1, 64, 10, 10]               0\n",
            "          Dropout-23           [-1, 64, 10, 10]               0\n",
            "           Conv2d-24            [-1, 128, 8, 8]          73,728\n",
            "      BatchNorm2d-25            [-1, 128, 8, 8]             256\n",
            "             ReLU-26            [-1, 128, 8, 8]               0\n",
            "          Dropout-27            [-1, 128, 8, 8]               0\n",
            "           Conv2d-28            [-1, 256, 8, 8]         294,912\n",
            "      BatchNorm2d-29            [-1, 256, 8, 8]             512\n",
            "             ReLU-30            [-1, 256, 8, 8]               0\n",
            "          Dropout-31            [-1, 256, 8, 8]               0\n",
            "           Conv2d-32            [-1, 256, 6, 6]           2,560\n",
            "      BatchNorm2d-33            [-1, 256, 6, 6]             512\n",
            "             ReLU-34            [-1, 256, 6, 6]               0\n",
            "          Dropout-35            [-1, 256, 6, 6]               0\n",
            "           Conv2d-36             [-1, 32, 6, 6]           8,192\n",
            "             ReLU-37             [-1, 32, 6, 6]               0\n",
            "        MaxPool2d-38             [-1, 32, 3, 3]               0\n",
            "           Conv2d-39             [-1, 64, 3, 3]          18,432\n",
            "      BatchNorm2d-40             [-1, 64, 3, 3]             128\n",
            "             ReLU-41             [-1, 64, 3, 3]               0\n",
            "          Dropout-42             [-1, 64, 3, 3]               0\n",
            "           Conv2d-43             [-1, 64, 3, 3]          36,864\n",
            "      BatchNorm2d-44             [-1, 64, 3, 3]             128\n",
            "             ReLU-45             [-1, 64, 3, 3]               0\n",
            "           Conv2d-46            [-1, 128, 3, 3]          73,728\n",
            "      BatchNorm2d-47            [-1, 128, 3, 3]             256\n",
            "             ReLU-48            [-1, 128, 3, 3]               0\n",
            "          Dropout-49            [-1, 128, 3, 3]               0\n",
            "           Conv2d-50             [-1, 32, 3, 3]           4,096\n",
            "             ReLU-51             [-1, 32, 3, 3]               0\n",
            "        MaxPool2d-52             [-1, 32, 1, 1]               0\n",
            "           Conv2d-53             [-1, 64, 1, 1]          18,432\n",
            "      BatchNorm2d-54             [-1, 64, 1, 1]             128\n",
            "             ReLU-55             [-1, 64, 1, 1]               0\n",
            "          Dropout-56             [-1, 64, 1, 1]               0\n",
            "           Conv2d-57            [-1, 128, 1, 1]          73,728\n",
            "             ReLU-58            [-1, 128, 1, 1]               0\n",
            "          Dropout-59            [-1, 128, 1, 1]               0\n",
            "           Conv2d-60             [-1, 10, 1, 1]           1,280\n",
            "      BatchNorm2d-61             [-1, 10, 1, 1]              20\n",
            "             ReLU-62             [-1, 10, 1, 1]               0\n",
            "          Dropout-63             [-1, 10, 1, 1]               0\n",
            "AdaptiveAvgPool2d-64             [-1, 10, 1, 1]               0\n",
            "           Conv2d-65             [-1, 10, 1, 1]             100\n",
            "================================================================\n",
            "Total params: 992,804\n",
            "Trainable params: 992,804\n",
            "Non-trainable params: 0\n",
            "----------------------------------------------------------------\n",
            "Input size (MB): 0.01\n",
            "Forward/backward pass size (MB): 10.73\n",
            "Params size (MB): 3.79\n",
            "Estimated Total Size (MB): 14.53\n",
            "----------------------------------------------------------------\n",
            "Files already downloaded and verified\n",
            "Files already downloaded and verified\n"
          ],
          "name": "stdout"
        },
        {
          "output_type": "stream",
          "text": [
            "\r  0%|          | 0/782 [00:00<?, ?it/s]"
          ],
          "name": "stderr"
        },
        {
          "output_type": "stream",
          "text": [
            "Epoch: 1\n"
          ],
          "name": "stdout"
        },
        {
          "output_type": "stream",
          "text": [
            "Loss=1.848878026008606 Batch_id=781 Accuracy=35.26: 100%|██████████| 782/782 [00:35<00:00, 22.11it/s]\n",
            "  0%|          | 0/782 [00:00<?, ?it/s]"
          ],
          "name": "stderr"
        },
        {
          "output_type": "stream",
          "text": [
            "\n",
            "Test set: Average loss: 1.4330, Accuracy: 4714/10000 (47.14%)\n",
            "\n",
            "Epoch: 2\n"
          ],
          "name": "stdout"
        },
        {
          "output_type": "stream",
          "text": [
            "Loss=1.0872299671173096 Batch_id=781 Accuracy=51.79: 100%|██████████| 782/782 [00:35<00:00, 22.09it/s]\n",
            "  0%|          | 0/782 [00:00<?, ?it/s]"
          ],
          "name": "stderr"
        },
        {
          "output_type": "stream",
          "text": [
            "\n",
            "Test set: Average loss: 1.1855, Accuracy: 5801/10000 (58.01%)\n",
            "\n",
            "Epoch: 3\n"
          ],
          "name": "stdout"
        },
        {
          "output_type": "stream",
          "text": [
            "Loss=1.0600894689559937 Batch_id=781 Accuracy=59.39: 100%|██████████| 782/782 [00:34<00:00, 22.40it/s]\n",
            "  0%|          | 0/782 [00:00<?, ?it/s]"
          ],
          "name": "stderr"
        },
        {
          "output_type": "stream",
          "text": [
            "\n",
            "Test set: Average loss: 1.0358, Accuracy: 6382/10000 (63.82%)\n",
            "\n",
            "Epoch: 4\n"
          ],
          "name": "stdout"
        },
        {
          "output_type": "stream",
          "text": [
            "Loss=0.9389859437942505 Batch_id=781 Accuracy=64.95: 100%|██████████| 782/782 [00:35<00:00, 22.29it/s]\n",
            "  0%|          | 0/782 [00:00<?, ?it/s]"
          ],
          "name": "stderr"
        },
        {
          "output_type": "stream",
          "text": [
            "\n",
            "Test set: Average loss: 0.9185, Accuracy: 6821/10000 (68.21%)\n",
            "\n",
            "Epoch: 5\n"
          ],
          "name": "stdout"
        },
        {
          "output_type": "stream",
          "text": [
            "Loss=0.7230312824249268 Batch_id=781 Accuracy=68.91: 100%|██████████| 782/782 [00:35<00:00, 22.00it/s]\n",
            "  0%|          | 0/782 [00:00<?, ?it/s]"
          ],
          "name": "stderr"
        },
        {
          "output_type": "stream",
          "text": [
            "\n",
            "Test set: Average loss: 0.8741, Accuracy: 7019/10000 (70.19%)\n",
            "\n",
            "Epoch: 6\n"
          ],
          "name": "stdout"
        },
        {
          "output_type": "stream",
          "text": [
            "Loss=0.6350700855255127 Batch_id=781 Accuracy=71.98: 100%|██████████| 782/782 [00:34<00:00, 22.50it/s]\n",
            "  0%|          | 0/782 [00:00<?, ?it/s]"
          ],
          "name": "stderr"
        },
        {
          "output_type": "stream",
          "text": [
            "\n",
            "Test set: Average loss: 0.7758, Accuracy: 7359/10000 (73.59%)\n",
            "\n",
            "Epoch: 7\n"
          ],
          "name": "stdout"
        },
        {
          "output_type": "stream",
          "text": [
            "Loss=1.2888493537902832 Batch_id=781 Accuracy=74.12: 100%|██████████| 782/782 [00:35<00:00, 22.06it/s]\n",
            "  0%|          | 0/782 [00:00<?, ?it/s]"
          ],
          "name": "stderr"
        },
        {
          "output_type": "stream",
          "text": [
            "\n",
            "Test set: Average loss: 0.7384, Accuracy: 7473/10000 (74.73%)\n",
            "\n",
            "Epoch: 8\n"
          ],
          "name": "stdout"
        },
        {
          "output_type": "stream",
          "text": [
            "Loss=0.9594882130622864 Batch_id=781 Accuracy=76.11: 100%|██████████| 782/782 [00:35<00:00, 22.10it/s]\n",
            "  0%|          | 0/782 [00:00<?, ?it/s]"
          ],
          "name": "stderr"
        },
        {
          "output_type": "stream",
          "text": [
            "\n",
            "Test set: Average loss: 0.7729, Accuracy: 7356/10000 (73.56%)\n",
            "\n",
            "Epoch: 9\n"
          ],
          "name": "stdout"
        },
        {
          "output_type": "stream",
          "text": [
            "Loss=0.42239847779273987 Batch_id=781 Accuracy=77.48: 100%|██████████| 782/782 [00:35<00:00, 22.16it/s]\n",
            "  0%|          | 0/782 [00:00<?, ?it/s]"
          ],
          "name": "stderr"
        },
        {
          "output_type": "stream",
          "text": [
            "\n",
            "Test set: Average loss: 0.6728, Accuracy: 7707/10000 (77.07%)\n",
            "\n",
            "Epoch: 10\n"
          ],
          "name": "stdout"
        },
        {
          "output_type": "stream",
          "text": [
            "Loss=0.6624289751052856 Batch_id=781 Accuracy=79.11: 100%|██████████| 782/782 [00:34<00:00, 22.41it/s]\n",
            "  0%|          | 0/782 [00:00<?, ?it/s]"
          ],
          "name": "stderr"
        },
        {
          "output_type": "stream",
          "text": [
            "\n",
            "Test set: Average loss: 0.7020, Accuracy: 7603/10000 (76.03%)\n",
            "\n",
            "Epoch: 11\n"
          ],
          "name": "stdout"
        },
        {
          "output_type": "stream",
          "text": [
            "Loss=0.4350656569004059 Batch_id=781 Accuracy=80.39: 100%|██████████| 782/782 [00:35<00:00, 22.11it/s]\n",
            "  0%|          | 0/782 [00:00<?, ?it/s]"
          ],
          "name": "stderr"
        },
        {
          "output_type": "stream",
          "text": [
            "\n",
            "Test set: Average loss: 0.6906, Accuracy: 7662/10000 (76.62%)\n",
            "\n",
            "Epoch: 12\n"
          ],
          "name": "stdout"
        },
        {
          "output_type": "stream",
          "text": [
            "Loss=1.133341908454895 Batch_id=781 Accuracy=81.23: 100%|██████████| 782/782 [00:35<00:00, 22.18it/s]\n",
            "  0%|          | 0/782 [00:00<?, ?it/s]"
          ],
          "name": "stderr"
        },
        {
          "output_type": "stream",
          "text": [
            "\n",
            "Test set: Average loss: 0.6620, Accuracy: 7778/10000 (77.78%)\n",
            "\n",
            "Epoch: 13\n"
          ],
          "name": "stdout"
        },
        {
          "output_type": "stream",
          "text": [
            "Loss=0.5381175875663757 Batch_id=781 Accuracy=82.36: 100%|██████████| 782/782 [00:35<00:00, 22.21it/s]\n",
            "  0%|          | 0/782 [00:00<?, ?it/s]"
          ],
          "name": "stderr"
        },
        {
          "output_type": "stream",
          "text": [
            "\n",
            "Test set: Average loss: 0.6698, Accuracy: 7760/10000 (77.60%)\n",
            "\n",
            "Epoch: 14\n"
          ],
          "name": "stdout"
        },
        {
          "output_type": "stream",
          "text": [
            "Loss=0.351249098777771 Batch_id=781 Accuracy=83.19: 100%|██████████| 782/782 [00:35<00:00, 22.07it/s]\n",
            "  0%|          | 0/782 [00:00<?, ?it/s]"
          ],
          "name": "stderr"
        },
        {
          "output_type": "stream",
          "text": [
            "\n",
            "Test set: Average loss: 0.6938, Accuracy: 7738/10000 (77.38%)\n",
            "\n",
            "Epoch: 15\n"
          ],
          "name": "stdout"
        },
        {
          "output_type": "stream",
          "text": [
            "Loss=0.5164002180099487 Batch_id=781 Accuracy=84.20: 100%|██████████| 782/782 [00:35<00:00, 22.14it/s]\n",
            "  0%|          | 0/782 [00:00<?, ?it/s]"
          ],
          "name": "stderr"
        },
        {
          "output_type": "stream",
          "text": [
            "\n",
            "Test set: Average loss: 0.6310, Accuracy: 7897/10000 (78.97%)\n",
            "\n",
            "Epoch: 16\n"
          ],
          "name": "stdout"
        },
        {
          "output_type": "stream",
          "text": [
            "Loss=0.9458195567131042 Batch_id=781 Accuracy=84.80: 100%|██████████| 782/782 [00:35<00:00, 22.25it/s]\n",
            "  0%|          | 0/782 [00:00<?, ?it/s]"
          ],
          "name": "stderr"
        },
        {
          "output_type": "stream",
          "text": [
            "\n",
            "Test set: Average loss: 0.6846, Accuracy: 7747/10000 (77.47%)\n",
            "\n",
            "Epoch: 17\n"
          ],
          "name": "stdout"
        },
        {
          "output_type": "stream",
          "text": [
            "Loss=1.722427248954773 Batch_id=781 Accuracy=85.77: 100%|██████████| 782/782 [00:35<00:00, 22.11it/s]\n",
            "  0%|          | 0/782 [00:00<?, ?it/s]"
          ],
          "name": "stderr"
        },
        {
          "output_type": "stream",
          "text": [
            "\n",
            "Test set: Average loss: 0.6486, Accuracy: 7936/10000 (79.36%)\n",
            "\n",
            "Epoch: 18\n"
          ],
          "name": "stdout"
        },
        {
          "output_type": "stream",
          "text": [
            "Loss=0.9374287724494934 Batch_id=781 Accuracy=86.32: 100%|██████████| 782/782 [00:34<00:00, 22.43it/s]\n",
            "  0%|          | 0/782 [00:00<?, ?it/s]"
          ],
          "name": "stderr"
        },
        {
          "output_type": "stream",
          "text": [
            "\n",
            "Test set: Average loss: 0.6784, Accuracy: 7853/10000 (78.53%)\n",
            "\n",
            "Epoch: 19\n"
          ],
          "name": "stdout"
        },
        {
          "output_type": "stream",
          "text": [
            "Loss=1.0039093494415283 Batch_id=781 Accuracy=86.80: 100%|██████████| 782/782 [00:35<00:00, 22.31it/s]\n",
            "  0%|          | 0/782 [00:00<?, ?it/s]"
          ],
          "name": "stderr"
        },
        {
          "output_type": "stream",
          "text": [
            "\n",
            "Test set: Average loss: 0.6710, Accuracy: 7910/10000 (79.10%)\n",
            "\n",
            "Epoch: 20\n"
          ],
          "name": "stdout"
        },
        {
          "output_type": "stream",
          "text": [
            "Loss=0.05501816049218178 Batch_id=781 Accuracy=87.42: 100%|██████████| 782/782 [00:35<00:00, 22.11it/s]\n",
            "  0%|          | 0/782 [00:00<?, ?it/s]"
          ],
          "name": "stderr"
        },
        {
          "output_type": "stream",
          "text": [
            "\n",
            "Test set: Average loss: 0.6569, Accuracy: 7958/10000 (79.58%)\n",
            "\n",
            "Epoch: 21\n"
          ],
          "name": "stdout"
        },
        {
          "output_type": "stream",
          "text": [
            "Loss=0.5705156922340393 Batch_id=781 Accuracy=88.27: 100%|██████████| 782/782 [00:34<00:00, 22.47it/s]\n",
            "  0%|          | 0/782 [00:00<?, ?it/s]"
          ],
          "name": "stderr"
        },
        {
          "output_type": "stream",
          "text": [
            "\n",
            "Test set: Average loss: 0.6401, Accuracy: 8010/10000 (80.10%)\n",
            "\n",
            "Epoch: 22\n"
          ],
          "name": "stdout"
        },
        {
          "output_type": "stream",
          "text": [
            "Loss=0.4717254936695099 Batch_id=781 Accuracy=88.77: 100%|██████████| 782/782 [00:34<00:00, 22.44it/s]\n",
            "  0%|          | 0/782 [00:00<?, ?it/s]"
          ],
          "name": "stderr"
        },
        {
          "output_type": "stream",
          "text": [
            "\n",
            "Test set: Average loss: 0.6737, Accuracy: 7933/10000 (79.33%)\n",
            "\n",
            "Epoch: 23\n"
          ],
          "name": "stdout"
        },
        {
          "output_type": "stream",
          "text": [
            "Loss=0.1527709811925888 Batch_id=781 Accuracy=89.25: 100%|██████████| 782/782 [00:34<00:00, 22.49it/s]\n",
            "  0%|          | 0/782 [00:00<?, ?it/s]"
          ],
          "name": "stderr"
        },
        {
          "output_type": "stream",
          "text": [
            "\n",
            "Test set: Average loss: 0.6697, Accuracy: 7958/10000 (79.58%)\n",
            "\n",
            "Epoch: 24\n"
          ],
          "name": "stdout"
        },
        {
          "output_type": "stream",
          "text": [
            "Loss=0.2850653827190399 Batch_id=781 Accuracy=89.67: 100%|██████████| 782/782 [00:34<00:00, 22.38it/s]\n",
            "  0%|          | 0/782 [00:00<?, ?it/s]"
          ],
          "name": "stderr"
        },
        {
          "output_type": "stream",
          "text": [
            "\n",
            "Test set: Average loss: 0.6761, Accuracy: 8012/10000 (80.12%)\n",
            "\n",
            "Epoch: 25\n"
          ],
          "name": "stdout"
        },
        {
          "output_type": "stream",
          "text": [
            "Loss=0.2851686477661133 Batch_id=781 Accuracy=90.33: 100%|██████████| 782/782 [00:35<00:00, 22.30it/s]\n",
            "  0%|          | 0/782 [00:00<?, ?it/s]"
          ],
          "name": "stderr"
        },
        {
          "output_type": "stream",
          "text": [
            "\n",
            "Test set: Average loss: 0.6842, Accuracy: 7967/10000 (79.67%)\n",
            "\n",
            "Epoch: 26\n"
          ],
          "name": "stdout"
        },
        {
          "output_type": "stream",
          "text": [
            "Loss=0.14348618686199188 Batch_id=781 Accuracy=90.53: 100%|██████████| 782/782 [00:34<00:00, 22.64it/s]\n",
            "  0%|          | 0/782 [00:00<?, ?it/s]"
          ],
          "name": "stderr"
        },
        {
          "output_type": "stream",
          "text": [
            "\n",
            "Test set: Average loss: 0.6916, Accuracy: 7955/10000 (79.55%)\n",
            "\n",
            "Epoch: 27\n"
          ],
          "name": "stdout"
        },
        {
          "output_type": "stream",
          "text": [
            "Loss=0.9021440744400024 Batch_id=781 Accuracy=90.94: 100%|██████████| 782/782 [00:35<00:00, 22.21it/s]\n",
            "  0%|          | 0/782 [00:00<?, ?it/s]"
          ],
          "name": "stderr"
        },
        {
          "output_type": "stream",
          "text": [
            "\n",
            "Test set: Average loss: 0.6732, Accuracy: 7983/10000 (79.83%)\n",
            "\n",
            "Epoch: 28\n"
          ],
          "name": "stdout"
        },
        {
          "output_type": "stream",
          "text": [
            "Loss=0.6575213074684143 Batch_id=781 Accuracy=91.02: 100%|██████████| 782/782 [00:34<00:00, 22.73it/s]\n",
            "  0%|          | 0/782 [00:00<?, ?it/s]"
          ],
          "name": "stderr"
        },
        {
          "output_type": "stream",
          "text": [
            "\n",
            "Test set: Average loss: 0.6785, Accuracy: 8013/10000 (80.13%)\n",
            "\n",
            "Epoch: 29\n"
          ],
          "name": "stdout"
        },
        {
          "output_type": "stream",
          "text": [
            "Loss=0.7011525630950928 Batch_id=781 Accuracy=91.51: 100%|██████████| 782/782 [00:35<00:00, 22.29it/s]\n",
            "  0%|          | 0/782 [00:00<?, ?it/s]"
          ],
          "name": "stderr"
        },
        {
          "output_type": "stream",
          "text": [
            "\n",
            "Test set: Average loss: 0.6728, Accuracy: 8081/10000 (80.81%)\n",
            "\n",
            "Epoch: 30\n"
          ],
          "name": "stdout"
        },
        {
          "output_type": "stream",
          "text": [
            "Loss=0.6145514845848083 Batch_id=781 Accuracy=92.04: 100%|██████████| 782/782 [00:34<00:00, 22.54it/s]\n"
          ],
          "name": "stderr"
        },
        {
          "output_type": "stream",
          "text": [
            "\n",
            "Test set: Average loss: 0.7502, Accuracy: 7941/10000 (79.41%)\n",
            "\n"
          ],
          "name": "stdout"
        }
      ]
    },
    {
      "cell_type": "code",
      "metadata": {
        "id": "OefKHp3VAA4B",
        "colab_type": "code",
        "colab": {}
      },
      "source": [
        ""
      ],
      "execution_count": 0,
      "outputs": []
    }
  ]
}