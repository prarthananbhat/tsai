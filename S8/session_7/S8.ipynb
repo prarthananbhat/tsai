{
  "nbformat": 4,
  "nbformat_minor": 0,
  "metadata": {
    "colab": {
      "name": "S8.ipynb",
      "provenance": [],
      "toc_visible": true
    },
    "kernelspec": {
      "name": "python3",
      "display_name": "Python 3"
    },
    "accelerator": "GPU"
  },
  "cells": [
    {
      "cell_type": "code",
      "metadata": {
        "id": "X4pM-B-i4-e5",
        "colab_type": "code",
        "outputId": "7f5ccfd8-41be-4bbb-8b3b-8c9b4acbf5d7",
        "colab": {
          "base_uri": "https://localhost:8080/",
          "height": 1000
        }
      },
      "source": [
        "from __future__ import print_function\n",
        "\n",
        "import torch\n",
        "from torchsummary import summary\n",
        "import torch.optim as optim\n",
        "\n",
        "import sys\n",
        "sys.path.append('/content/drive/My Drive/tsai/S8/session_7')\n",
        "from models.resnet18 import ResNet18\n",
        "from data_loader.data_loader_cifar import get_train_loader\n",
        "from data_loader.data_loader_cifar import get_test_loader\n",
        "from scoring.scoring import test\n",
        "from training import train\n",
        "\n",
        "\n",
        "# Set seed for all the environments\n",
        "SEED = 1\n",
        "torch.manual_seed(SEED)\n",
        "\n",
        "CUDA = torch.cuda.is_available()\n",
        "print(\"CUDA is available:\",CUDA)\n",
        "# If CUDA is available the set SEED for it\n",
        "if CUDA:\n",
        "    torch.cuda.manual_seed(SEED)\n",
        "\n",
        "device = torch.device(\"cuda\" if CUDA else \"cpu\")\n",
        "print(device)\n",
        "model = ResNet18().to(device)\n",
        "summary(model, input_size=(3, 32, 32))\n",
        "\n",
        "from tqdm import tqdm\n",
        "\n",
        "train_losses = []\n",
        "test_losses = []\n",
        "train_acc = []\n",
        "test_acc = []\n",
        "\n",
        "\n",
        "\n",
        "\n",
        "train_loader = get_train_loader()\n",
        "test_loader = get_test_loader()\n",
        "optimizer = optim.SGD(model.parameters(), lr=0.01, momentum=0.9)\n",
        "EPOCHS = 20\n",
        "for epoch in range(EPOCHS):\n",
        "    print(\"EPOCH:\", epoch)\n",
        "    train(model, device, train_loader, optimizer, epoch,train_losses,train_acc)\n",
        "    test(model, device, test_loader,test_losses,test_acc)"
      ],
      "execution_count": 23,
      "outputs": [
        {
          "output_type": "stream",
          "text": [
            "CUDA is available: True\n",
            "cuda\n",
            "----------------------------------------------------------------\n",
            "        Layer (type)               Output Shape         Param #\n",
            "================================================================\n",
            "            Conv2d-1           [-1, 64, 32, 32]           1,728\n",
            "       BatchNorm2d-2           [-1, 64, 32, 32]             128\n",
            "            Conv2d-3           [-1, 64, 32, 32]          36,864\n",
            "       BatchNorm2d-4           [-1, 64, 32, 32]             128\n",
            "            Conv2d-5           [-1, 64, 32, 32]          36,864\n",
            "       BatchNorm2d-6           [-1, 64, 32, 32]             128\n",
            "        BasicBlock-7           [-1, 64, 32, 32]               0\n",
            "            Conv2d-8           [-1, 64, 32, 32]          36,864\n",
            "       BatchNorm2d-9           [-1, 64, 32, 32]             128\n",
            "           Conv2d-10           [-1, 64, 32, 32]          36,864\n",
            "      BatchNorm2d-11           [-1, 64, 32, 32]             128\n",
            "       BasicBlock-12           [-1, 64, 32, 32]               0\n",
            "           Conv2d-13          [-1, 128, 16, 16]          73,728\n",
            "      BatchNorm2d-14          [-1, 128, 16, 16]             256\n",
            "           Conv2d-15          [-1, 128, 16, 16]         147,456\n",
            "      BatchNorm2d-16          [-1, 128, 16, 16]             256\n",
            "           Conv2d-17          [-1, 128, 16, 16]           8,192\n",
            "      BatchNorm2d-18          [-1, 128, 16, 16]             256\n",
            "       BasicBlock-19          [-1, 128, 16, 16]               0\n",
            "           Conv2d-20          [-1, 128, 16, 16]         147,456\n",
            "      BatchNorm2d-21          [-1, 128, 16, 16]             256\n",
            "           Conv2d-22          [-1, 128, 16, 16]         147,456\n",
            "      BatchNorm2d-23          [-1, 128, 16, 16]             256\n",
            "       BasicBlock-24          [-1, 128, 16, 16]               0\n",
            "           Conv2d-25            [-1, 256, 8, 8]         294,912\n",
            "      BatchNorm2d-26            [-1, 256, 8, 8]             512\n",
            "           Conv2d-27            [-1, 256, 8, 8]         589,824\n",
            "      BatchNorm2d-28            [-1, 256, 8, 8]             512\n",
            "           Conv2d-29            [-1, 256, 8, 8]          32,768\n",
            "      BatchNorm2d-30            [-1, 256, 8, 8]             512\n",
            "       BasicBlock-31            [-1, 256, 8, 8]               0\n",
            "           Conv2d-32            [-1, 256, 8, 8]         589,824\n",
            "      BatchNorm2d-33            [-1, 256, 8, 8]             512\n",
            "           Conv2d-34            [-1, 256, 8, 8]         589,824\n",
            "      BatchNorm2d-35            [-1, 256, 8, 8]             512\n",
            "       BasicBlock-36            [-1, 256, 8, 8]               0\n",
            "           Conv2d-37            [-1, 512, 4, 4]       1,179,648\n",
            "      BatchNorm2d-38            [-1, 512, 4, 4]           1,024\n",
            "           Conv2d-39            [-1, 512, 4, 4]       2,359,296\n",
            "      BatchNorm2d-40            [-1, 512, 4, 4]           1,024\n",
            "           Conv2d-41            [-1, 512, 4, 4]         131,072\n",
            "      BatchNorm2d-42            [-1, 512, 4, 4]           1,024\n",
            "       BasicBlock-43            [-1, 512, 4, 4]               0\n",
            "           Conv2d-44            [-1, 512, 4, 4]       2,359,296\n",
            "      BatchNorm2d-45            [-1, 512, 4, 4]           1,024\n",
            "           Conv2d-46            [-1, 512, 4, 4]       2,359,296\n",
            "      BatchNorm2d-47            [-1, 512, 4, 4]           1,024\n",
            "       BasicBlock-48            [-1, 512, 4, 4]               0\n",
            "           Linear-49                   [-1, 10]           5,130\n",
            "================================================================\n",
            "Total params: 11,173,962\n",
            "Trainable params: 11,173,962\n",
            "Non-trainable params: 0\n",
            "----------------------------------------------------------------\n",
            "Input size (MB): 0.01\n",
            "Forward/backward pass size (MB): 11.25\n",
            "Params size (MB): 42.63\n",
            "Estimated Total Size (MB): 53.89\n",
            "----------------------------------------------------------------\n",
            "Files already downloaded and verified\n",
            "Files already downloaded and verified\n"
          ],
          "name": "stdout"
        },
        {
          "output_type": "stream",
          "text": [
            "Loss=2.340620517730713 Batch_id=2 Accuracy=9.38:   0%|          | 2/782 [00:00<00:41, 18.67it/s]"
          ],
          "name": "stderr"
        },
        {
          "output_type": "stream",
          "text": [
            "EPOCH: 0\n"
          ],
          "name": "stdout"
        },
        {
          "output_type": "stream",
          "text": [
            "Loss=0.8034892678260803 Batch_id=781 Accuracy=53.23: 100%|██████████| 782/782 [00:38<00:00, 20.49it/s]\n",
            "Loss=0.9825140833854675 Batch_id=3 Accuracy=70.31:   0%|          | 3/782 [00:00<00:38, 20.40it/s]"
          ],
          "name": "stderr"
        },
        {
          "output_type": "stream",
          "text": [
            "\n",
            "Test set: Average loss: -4.7874, Accuracy: 6614/10000 (66.14%)\n",
            "\n",
            "EPOCH: 1\n"
          ],
          "name": "stdout"
        },
        {
          "output_type": "stream",
          "text": [
            "Loss=0.4232850670814514 Batch_id=781 Accuracy=73.88: 100%|██████████| 782/782 [00:37<00:00, 21.70it/s]\n",
            "Loss=0.767573893070221 Batch_id=3 Accuracy=78.91:   0%|          | 3/782 [00:00<00:37, 20.59it/s] "
          ],
          "name": "stderr"
        },
        {
          "output_type": "stream",
          "text": [
            "\n",
            "Test set: Average loss: -5.7698, Accuracy: 7381/10000 (73.81%)\n",
            "\n",
            "EPOCH: 2\n"
          ],
          "name": "stdout"
        },
        {
          "output_type": "stream",
          "text": [
            "Loss=0.4460529685020447 Batch_id=781 Accuracy=81.40: 100%|██████████| 782/782 [00:37<00:00, 20.66it/s]\n",
            "Loss=0.3624449372291565 Batch_id=3 Accuracy=83.98:   0%|          | 2/782 [00:00<00:39, 19.66it/s] "
          ],
          "name": "stderr"
        },
        {
          "output_type": "stream",
          "text": [
            "\n",
            "Test set: Average loss: -6.9958, Accuracy: 7966/10000 (79.66%)\n",
            "\n",
            "EPOCH: 3\n"
          ],
          "name": "stdout"
        },
        {
          "output_type": "stream",
          "text": [
            "Loss=0.7054049968719482 Batch_id=781 Accuracy=86.42: 100%|██████████| 782/782 [00:37<00:00, 22.11it/s]\n",
            "Loss=0.36521977186203003 Batch_id=3 Accuracy=92.19:   0%|          | 3/782 [00:00<00:38, 20.16it/s]"
          ],
          "name": "stderr"
        },
        {
          "output_type": "stream",
          "text": [
            "\n",
            "Test set: Average loss: -8.8328, Accuracy: 7916/10000 (79.16%)\n",
            "\n",
            "EPOCH: 4\n"
          ],
          "name": "stdout"
        },
        {
          "output_type": "stream",
          "text": [
            "Loss=0.2580145299434662 Batch_id=781 Accuracy=89.64: 100%|██████████| 782/782 [00:37<00:00, 20.80it/s]\n",
            "Loss=0.2371426224708557 Batch_id=3 Accuracy=90.62:   0%|          | 3/782 [00:00<00:37, 20.89it/s] "
          ],
          "name": "stderr"
        },
        {
          "output_type": "stream",
          "text": [
            "\n",
            "Test set: Average loss: -9.3779, Accuracy: 8060/10000 (80.60%)\n",
            "\n",
            "EPOCH: 5\n"
          ],
          "name": "stdout"
        },
        {
          "output_type": "stream",
          "text": [
            "Loss=0.31254056096076965 Batch_id=781 Accuracy=93.02: 100%|██████████| 782/782 [00:37<00:00, 20.90it/s]\n",
            "Loss=0.10029309242963791 Batch_id=3 Accuracy=95.70:   0%|          | 3/782 [00:00<00:37, 21.02it/s]"
          ],
          "name": "stderr"
        },
        {
          "output_type": "stream",
          "text": [
            "\n",
            "Test set: Average loss: -10.9710, Accuracy: 7878/10000 (78.78%)\n",
            "\n",
            "EPOCH: 6\n"
          ],
          "name": "stdout"
        },
        {
          "output_type": "stream",
          "text": [
            "Loss=0.3295755684375763 Batch_id=781 Accuracy=94.82: 100%|██████████| 782/782 [00:37<00:00, 21.11it/s]\n",
            "Loss=0.2042790949344635 Batch_id=3 Accuracy=94.92:   0%|          | 3/782 [00:00<00:36, 21.13it/s]"
          ],
          "name": "stderr"
        },
        {
          "output_type": "stream",
          "text": [
            "\n",
            "Test set: Average loss: -11.7257, Accuracy: 8014/10000 (80.14%)\n",
            "\n",
            "EPOCH: 7\n"
          ],
          "name": "stdout"
        },
        {
          "output_type": "stream",
          "text": [
            "Loss=0.02328401803970337 Batch_id=781 Accuracy=96.04: 100%|██████████| 782/782 [00:37<00:00, 21.03it/s]\n",
            "Loss=0.09376705437898636 Batch_id=3 Accuracy=96.48:   0%|          | 3/782 [00:00<00:37, 20.57it/s]"
          ],
          "name": "stderr"
        },
        {
          "output_type": "stream",
          "text": [
            "\n",
            "Test set: Average loss: -12.7279, Accuracy: 8142/10000 (81.42%)\n",
            "\n",
            "EPOCH: 8\n"
          ],
          "name": "stdout"
        },
        {
          "output_type": "stream",
          "text": [
            "Loss=0.0059216320514678955 Batch_id=781 Accuracy=97.16: 100%|██████████| 782/782 [00:37<00:00, 21.13it/s]\n",
            "Loss=0.30325716733932495 Batch_id=3 Accuracy=95.31:   0%|          | 3/782 [00:00<00:37, 20.79it/s]"
          ],
          "name": "stderr"
        },
        {
          "output_type": "stream",
          "text": [
            "\n",
            "Test set: Average loss: -13.8366, Accuracy: 8174/10000 (81.74%)\n",
            "\n",
            "EPOCH: 9\n"
          ],
          "name": "stdout"
        },
        {
          "output_type": "stream",
          "text": [
            "Loss=0.06792590022087097 Batch_id=781 Accuracy=98.31: 100%|██████████| 782/782 [00:37<00:00, 20.97it/s]\n",
            "Loss=0.11300723999738693 Batch_id=3 Accuracy=98.05:   0%|          | 2/782 [00:00<00:39, 19.95it/s] "
          ],
          "name": "stderr"
        },
        {
          "output_type": "stream",
          "text": [
            "\n",
            "Test set: Average loss: -14.8574, Accuracy: 8310/10000 (83.10%)\n",
            "\n",
            "EPOCH: 10\n"
          ],
          "name": "stdout"
        },
        {
          "output_type": "stream",
          "text": [
            "Loss=0.34946855902671814 Batch_id=781 Accuracy=98.90: 100%|██████████| 782/782 [00:36<00:00, 22.37it/s]\n",
            "Loss=0.027182288467884064 Batch_id=3 Accuracy=98.44:   0%|          | 2/782 [00:00<00:39, 19.88it/s]"
          ],
          "name": "stderr"
        },
        {
          "output_type": "stream",
          "text": [
            "\n",
            "Test set: Average loss: -15.2691, Accuracy: 8242/10000 (82.42%)\n",
            "\n",
            "EPOCH: 11\n"
          ],
          "name": "stdout"
        },
        {
          "output_type": "stream",
          "text": [
            "Loss=0.24342823028564453 Batch_id=781 Accuracy=98.59: 100%|██████████| 782/782 [00:37<00:00, 20.86it/s]\n",
            "Loss=0.005775421857833862 Batch_id=2 Accuracy=99.48:   0%|          | 2/782 [00:00<00:39, 19.81it/s]"
          ],
          "name": "stderr"
        },
        {
          "output_type": "stream",
          "text": [
            "\n",
            "Test set: Average loss: -15.8434, Accuracy: 8238/10000 (82.38%)\n",
            "\n",
            "EPOCH: 12\n"
          ],
          "name": "stdout"
        },
        {
          "output_type": "stream",
          "text": [
            "Loss=0.16700145602226257 Batch_id=781 Accuracy=98.70: 100%|██████████| 782/782 [00:37<00:00, 21.79it/s]\n",
            "Loss=0.0007580965757369995 Batch_id=3 Accuracy=99.61:   0%|          | 3/782 [00:00<00:37, 20.65it/s]"
          ],
          "name": "stderr"
        },
        {
          "output_type": "stream",
          "text": [
            "\n",
            "Test set: Average loss: -16.5245, Accuracy: 8337/10000 (83.37%)\n",
            "\n",
            "EPOCH: 13\n"
          ],
          "name": "stdout"
        },
        {
          "output_type": "stream",
          "text": [
            "Loss=0.00036841630935668945 Batch_id=781 Accuracy=99.23: 100%|██████████| 782/782 [00:37<00:00, 21.85it/s]\n",
            "Loss=0.06986662745475769 Batch_id=3 Accuracy=98.83:   0%|          | 3/782 [00:00<00:38, 20.09it/s]"
          ],
          "name": "stderr"
        },
        {
          "output_type": "stream",
          "text": [
            "\n",
            "Test set: Average loss: -16.8184, Accuracy: 8344/10000 (83.44%)\n",
            "\n",
            "EPOCH: 14\n"
          ],
          "name": "stdout"
        },
        {
          "output_type": "stream",
          "text": [
            "Loss=0.0010172128677368164 Batch_id=781 Accuracy=99.65: 100%|██████████| 782/782 [00:37<00:00, 20.98it/s]\n",
            "Loss=0.007383495569229126 Batch_id=2 Accuracy=100.00:   0%|          | 2/782 [00:00<00:39, 19.94it/s] "
          ],
          "name": "stderr"
        },
        {
          "output_type": "stream",
          "text": [
            "\n",
            "Test set: Average loss: -17.3332, Accuracy: 8388/10000 (83.88%)\n",
            "\n",
            "EPOCH: 15\n"
          ],
          "name": "stdout"
        },
        {
          "output_type": "stream",
          "text": [
            "Loss=0.06308427453041077 Batch_id=781 Accuracy=99.59: 100%|██████████| 782/782 [00:37<00:00, 20.94it/s]\n",
            "Loss=0.008545085787773132 Batch_id=2 Accuracy=100.00:   0%|          | 2/782 [00:00<00:40, 19.10it/s] "
          ],
          "name": "stderr"
        },
        {
          "output_type": "stream",
          "text": [
            "\n",
            "Test set: Average loss: -18.0113, Accuracy: 8368/10000 (83.68%)\n",
            "\n",
            "EPOCH: 16\n"
          ],
          "name": "stdout"
        },
        {
          "output_type": "stream",
          "text": [
            "Loss=0.34696587920188904 Batch_id=781 Accuracy=99.56: 100%|██████████| 782/782 [00:37<00:00, 21.80it/s]\n",
            "Loss=0.09320924431085587 Batch_id=3 Accuracy=98.83:   0%|          | 3/782 [00:00<00:36, 21.15it/s] "
          ],
          "name": "stderr"
        },
        {
          "output_type": "stream",
          "text": [
            "\n",
            "Test set: Average loss: -18.2127, Accuracy: 8449/10000 (84.49%)\n",
            "\n",
            "EPOCH: 17\n"
          ],
          "name": "stdout"
        },
        {
          "output_type": "stream",
          "text": [
            "Loss=0.004270493984222412 Batch_id=781 Accuracy=99.38: 100%|██████████| 782/782 [00:37<00:00, 21.06it/s]\n",
            "Loss=0.0034714937210083008 Batch_id=3 Accuracy=99.61:   0%|          | 2/782 [00:00<00:39, 19.95it/s]"
          ],
          "name": "stderr"
        },
        {
          "output_type": "stream",
          "text": [
            "\n",
            "Test set: Average loss: -18.1802, Accuracy: 8461/10000 (84.61%)\n",
            "\n",
            "EPOCH: 18\n"
          ],
          "name": "stdout"
        },
        {
          "output_type": "stream",
          "text": [
            "Loss=8.153915405273438e-05 Batch_id=781 Accuracy=99.75: 100%|██████████| 782/782 [00:37<00:00, 22.13it/s]\n",
            "Loss=0.0004852414131164551 Batch_id=3 Accuracy=100.00:   0%|          | 3/782 [00:00<00:37, 20.82it/s]"
          ],
          "name": "stderr"
        },
        {
          "output_type": "stream",
          "text": [
            "\n",
            "Test set: Average loss: -18.1258, Accuracy: 8473/10000 (84.73%)\n",
            "\n",
            "EPOCH: 19\n"
          ],
          "name": "stdout"
        },
        {
          "output_type": "stream",
          "text": [
            "Loss=7.569789886474609e-06 Batch_id=781 Accuracy=99.79: 100%|██████████| 782/782 [00:37<00:00, 21.95it/s]\n"
          ],
          "name": "stderr"
        },
        {
          "output_type": "stream",
          "text": [
            "\n",
            "Test set: Average loss: -18.6814, Accuracy: 8489/10000 (84.89%)\n",
            "\n"
          ],
          "name": "stdout"
        }
      ]
    },
    {
      "cell_type": "code",
      "metadata": {
        "id": "cxXeVbt5CZgQ",
        "colab_type": "code",
        "colab": {}
      },
      "source": [
        ""
      ],
      "execution_count": 0,
      "outputs": []
    }
  ]
}