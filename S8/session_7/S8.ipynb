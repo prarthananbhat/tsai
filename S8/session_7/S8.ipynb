{
  "nbformat": 4,
  "nbformat_minor": 0,
  "metadata": {
    "colab": {
      "name": "S8.ipynb",
      "provenance": [],
      "toc_visible": true
    },
    "kernelspec": {
      "name": "python3",
      "display_name": "Python 3"
    },
    "accelerator": "GPU",
    "widgets": {
      "application/vnd.jupyter.widget-state+json": {
        "d8c18392fad448f69cc9c82edfa9e91f": {
          "model_module": "@jupyter-widgets/controls",
          "model_name": "HBoxModel",
          "state": {
            "_view_name": "HBoxView",
            "_dom_classes": [],
            "_model_name": "HBoxModel",
            "_view_module": "@jupyter-widgets/controls",
            "_model_module_version": "1.5.0",
            "_view_count": null,
            "_view_module_version": "1.5.0",
            "box_style": "",
            "layout": "IPY_MODEL_7a866fb160584e68a5d72e2dcf2689ca",
            "_model_module": "@jupyter-widgets/controls",
            "children": [
              "IPY_MODEL_6fa8c8311844440db4e9eff250cb3a22",
              "IPY_MODEL_c547cea06be3410285567dfb493330b3"
            ]
          }
        },
        "7a866fb160584e68a5d72e2dcf2689ca": {
          "model_module": "@jupyter-widgets/base",
          "model_name": "LayoutModel",
          "state": {
            "_view_name": "LayoutView",
            "grid_template_rows": null,
            "right": null,
            "justify_content": null,
            "_view_module": "@jupyter-widgets/base",
            "overflow": null,
            "_model_module_version": "1.2.0",
            "_view_count": null,
            "flex_flow": null,
            "width": null,
            "min_width": null,
            "border": null,
            "align_items": null,
            "bottom": null,
            "_model_module": "@jupyter-widgets/base",
            "top": null,
            "grid_column": null,
            "overflow_y": null,
            "overflow_x": null,
            "grid_auto_flow": null,
            "grid_area": null,
            "grid_template_columns": null,
            "flex": null,
            "_model_name": "LayoutModel",
            "justify_items": null,
            "grid_row": null,
            "max_height": null,
            "align_content": null,
            "visibility": null,
            "align_self": null,
            "height": null,
            "min_height": null,
            "padding": null,
            "grid_auto_rows": null,
            "grid_gap": null,
            "max_width": null,
            "order": null,
            "_view_module_version": "1.2.0",
            "grid_template_areas": null,
            "object_position": null,
            "object_fit": null,
            "grid_auto_columns": null,
            "margin": null,
            "display": null,
            "left": null
          }
        },
        "6fa8c8311844440db4e9eff250cb3a22": {
          "model_module": "@jupyter-widgets/controls",
          "model_name": "IntProgressModel",
          "state": {
            "_view_name": "ProgressView",
            "style": "IPY_MODEL_5651c2fd0f02429495ce439e3c23c7a8",
            "_dom_classes": [],
            "description": "",
            "_model_name": "IntProgressModel",
            "bar_style": "success",
            "max": 1,
            "_view_module": "@jupyter-widgets/controls",
            "_model_module_version": "1.5.0",
            "value": 1,
            "_view_count": null,
            "_view_module_version": "1.5.0",
            "orientation": "horizontal",
            "min": 0,
            "description_tooltip": null,
            "_model_module": "@jupyter-widgets/controls",
            "layout": "IPY_MODEL_be04e360dfd148fe924439259f69b283"
          }
        },
        "c547cea06be3410285567dfb493330b3": {
          "model_module": "@jupyter-widgets/controls",
          "model_name": "HTMLModel",
          "state": {
            "_view_name": "HTMLView",
            "style": "IPY_MODEL_a1b5f4d9f38a4c7593d5089d0d6d5cd6",
            "_dom_classes": [],
            "description": "",
            "_model_name": "HTMLModel",
            "placeholder": "​",
            "_view_module": "@jupyter-widgets/controls",
            "_model_module_version": "1.5.0",
            "value": "170500096it [00:06, 27813855.19it/s]",
            "_view_count": null,
            "_view_module_version": "1.5.0",
            "description_tooltip": null,
            "_model_module": "@jupyter-widgets/controls",
            "layout": "IPY_MODEL_50dec1b34f314287b0de77f858a5d35a"
          }
        },
        "5651c2fd0f02429495ce439e3c23c7a8": {
          "model_module": "@jupyter-widgets/controls",
          "model_name": "ProgressStyleModel",
          "state": {
            "_view_name": "StyleView",
            "_model_name": "ProgressStyleModel",
            "description_width": "",
            "_view_module": "@jupyter-widgets/base",
            "_model_module_version": "1.5.0",
            "_view_count": null,
            "_view_module_version": "1.2.0",
            "bar_color": null,
            "_model_module": "@jupyter-widgets/controls"
          }
        },
        "be04e360dfd148fe924439259f69b283": {
          "model_module": "@jupyter-widgets/base",
          "model_name": "LayoutModel",
          "state": {
            "_view_name": "LayoutView",
            "grid_template_rows": null,
            "right": null,
            "justify_content": null,
            "_view_module": "@jupyter-widgets/base",
            "overflow": null,
            "_model_module_version": "1.2.0",
            "_view_count": null,
            "flex_flow": null,
            "width": null,
            "min_width": null,
            "border": null,
            "align_items": null,
            "bottom": null,
            "_model_module": "@jupyter-widgets/base",
            "top": null,
            "grid_column": null,
            "overflow_y": null,
            "overflow_x": null,
            "grid_auto_flow": null,
            "grid_area": null,
            "grid_template_columns": null,
            "flex": null,
            "_model_name": "LayoutModel",
            "justify_items": null,
            "grid_row": null,
            "max_height": null,
            "align_content": null,
            "visibility": null,
            "align_self": null,
            "height": null,
            "min_height": null,
            "padding": null,
            "grid_auto_rows": null,
            "grid_gap": null,
            "max_width": null,
            "order": null,
            "_view_module_version": "1.2.0",
            "grid_template_areas": null,
            "object_position": null,
            "object_fit": null,
            "grid_auto_columns": null,
            "margin": null,
            "display": null,
            "left": null
          }
        },
        "a1b5f4d9f38a4c7593d5089d0d6d5cd6": {
          "model_module": "@jupyter-widgets/controls",
          "model_name": "DescriptionStyleModel",
          "state": {
            "_view_name": "StyleView",
            "_model_name": "DescriptionStyleModel",
            "description_width": "",
            "_view_module": "@jupyter-widgets/base",
            "_model_module_version": "1.5.0",
            "_view_count": null,
            "_view_module_version": "1.2.0",
            "_model_module": "@jupyter-widgets/controls"
          }
        },
        "50dec1b34f314287b0de77f858a5d35a": {
          "model_module": "@jupyter-widgets/base",
          "model_name": "LayoutModel",
          "state": {
            "_view_name": "LayoutView",
            "grid_template_rows": null,
            "right": null,
            "justify_content": null,
            "_view_module": "@jupyter-widgets/base",
            "overflow": null,
            "_model_module_version": "1.2.0",
            "_view_count": null,
            "flex_flow": null,
            "width": null,
            "min_width": null,
            "border": null,
            "align_items": null,
            "bottom": null,
            "_model_module": "@jupyter-widgets/base",
            "top": null,
            "grid_column": null,
            "overflow_y": null,
            "overflow_x": null,
            "grid_auto_flow": null,
            "grid_area": null,
            "grid_template_columns": null,
            "flex": null,
            "_model_name": "LayoutModel",
            "justify_items": null,
            "grid_row": null,
            "max_height": null,
            "align_content": null,
            "visibility": null,
            "align_self": null,
            "height": null,
            "min_height": null,
            "padding": null,
            "grid_auto_rows": null,
            "grid_gap": null,
            "max_width": null,
            "order": null,
            "_view_module_version": "1.2.0",
            "grid_template_areas": null,
            "object_position": null,
            "object_fit": null,
            "grid_auto_columns": null,
            "margin": null,
            "display": null,
            "left": null
          }
        }
      }
    }
  },
  "cells": [
    {
      "cell_type": "code",
      "metadata": {
        "id": "X4pM-B-i4-e5",
        "colab_type": "code",
        "outputId": "065ef527-692b-42f3-aefd-f60243982a39",
        "colab": {
          "base_uri": "https://localhost:8080/",
          "height": 1000,
          "referenced_widgets": [
            "d8c18392fad448f69cc9c82edfa9e91f",
            "7a866fb160584e68a5d72e2dcf2689ca",
            "6fa8c8311844440db4e9eff250cb3a22",
            "c547cea06be3410285567dfb493330b3",
            "5651c2fd0f02429495ce439e3c23c7a8",
            "be04e360dfd148fe924439259f69b283",
            "a1b5f4d9f38a4c7593d5089d0d6d5cd6",
            "50dec1b34f314287b0de77f858a5d35a"
          ]
        }
      },
      "source": [
        "from __future__ import print_function\n",
        "\n",
        "import torch\n",
        "from torchsummary import summary\n",
        "import torch.optim as optim\n",
        "\n",
        "import sys\n",
        "sys.path.append('/content/drive/My Drive/tsai/S8/session_7')\n",
        "from models.resnet18 import ResNet18\n",
        "from data_loader.data_loader_cifar import get_train_loader\n",
        "from data_loader.data_loader_cifar import get_test_loader\n",
        "from scoring.scoring import test\n",
        "from training.training import train\n",
        "from tqdm import tqdm\n",
        "\n",
        "\n",
        "# Set seed for all the environments\n",
        "SEED = 1\n",
        "torch.manual_seed(SEED)\n",
        "CUDA = torch.cuda.is_available()\n",
        "print(\"CUDA is available:\",CUDA)\n",
        "# If CUDA is available the set SEED for it\n",
        "if CUDA:\n",
        "    torch.cuda.manual_seed(SEED)\n",
        "device = torch.device(\"cuda\" if CUDA else \"cpu\")\n",
        "print(device)\n",
        "\n",
        "# Load the model\n",
        "model = ResNet18().to(device)\n",
        "summary(model, input_size=(3, 32, 32))\n",
        "\n",
        "train_losses = []\n",
        "test_losses = []\n",
        "train_acc = []\n",
        "test_acc = []\n",
        "\n",
        "train_loader = get_train_loader()\n",
        "test_loader = get_test_loader()\n",
        "optimizer = optim.SGD(model.parameters(), lr=0.01, momentum=0.9)\n",
        "EPOCHS = 30\n",
        "for epoch in range(EPOCHS):\n",
        "    print(\"EPOCH:\", epoch)\n",
        "    train(model, device, train_loader, optimizer, epoch,train_losses,train_acc)\n",
        "    test(model, device, test_loader,test_losses,test_acc)"
      ],
      "execution_count": 2,
      "outputs": [
        {
          "output_type": "stream",
          "text": [
            "CUDA is available: True\n",
            "cuda\n",
            "----------------------------------------------------------------\n",
            "        Layer (type)               Output Shape         Param #\n",
            "================================================================\n",
            "            Conv2d-1           [-1, 64, 32, 32]           1,728\n",
            "       BatchNorm2d-2           [-1, 64, 32, 32]             128\n",
            "            Conv2d-3           [-1, 64, 32, 32]          36,864\n",
            "       BatchNorm2d-4           [-1, 64, 32, 32]             128\n",
            "            Conv2d-5           [-1, 64, 32, 32]          36,864\n",
            "       BatchNorm2d-6           [-1, 64, 32, 32]             128\n",
            "        BasicBlock-7           [-1, 64, 32, 32]               0\n",
            "            Conv2d-8           [-1, 64, 32, 32]          36,864\n",
            "       BatchNorm2d-9           [-1, 64, 32, 32]             128\n",
            "           Conv2d-10           [-1, 64, 32, 32]          36,864\n",
            "      BatchNorm2d-11           [-1, 64, 32, 32]             128\n",
            "       BasicBlock-12           [-1, 64, 32, 32]               0\n",
            "           Conv2d-13          [-1, 128, 16, 16]          73,728\n",
            "      BatchNorm2d-14          [-1, 128, 16, 16]             256\n",
            "           Conv2d-15          [-1, 128, 16, 16]         147,456\n",
            "      BatchNorm2d-16          [-1, 128, 16, 16]             256\n",
            "           Conv2d-17          [-1, 128, 16, 16]           8,192\n",
            "      BatchNorm2d-18          [-1, 128, 16, 16]             256\n",
            "       BasicBlock-19          [-1, 128, 16, 16]               0\n",
            "           Conv2d-20          [-1, 128, 16, 16]         147,456\n",
            "      BatchNorm2d-21          [-1, 128, 16, 16]             256\n",
            "           Conv2d-22          [-1, 128, 16, 16]         147,456\n",
            "      BatchNorm2d-23          [-1, 128, 16, 16]             256\n",
            "       BasicBlock-24          [-1, 128, 16, 16]               0\n",
            "           Conv2d-25            [-1, 256, 8, 8]         294,912\n",
            "      BatchNorm2d-26            [-1, 256, 8, 8]             512\n",
            "           Conv2d-27            [-1, 256, 8, 8]         589,824\n",
            "      BatchNorm2d-28            [-1, 256, 8, 8]             512\n",
            "           Conv2d-29            [-1, 256, 8, 8]          32,768\n",
            "      BatchNorm2d-30            [-1, 256, 8, 8]             512\n",
            "       BasicBlock-31            [-1, 256, 8, 8]               0\n",
            "           Conv2d-32            [-1, 256, 8, 8]         589,824\n",
            "      BatchNorm2d-33            [-1, 256, 8, 8]             512\n",
            "           Conv2d-34            [-1, 256, 8, 8]         589,824\n",
            "      BatchNorm2d-35            [-1, 256, 8, 8]             512\n",
            "       BasicBlock-36            [-1, 256, 8, 8]               0\n",
            "           Conv2d-37            [-1, 512, 4, 4]       1,179,648\n",
            "      BatchNorm2d-38            [-1, 512, 4, 4]           1,024\n",
            "           Conv2d-39            [-1, 512, 4, 4]       2,359,296\n",
            "      BatchNorm2d-40            [-1, 512, 4, 4]           1,024\n",
            "           Conv2d-41            [-1, 512, 4, 4]         131,072\n",
            "      BatchNorm2d-42            [-1, 512, 4, 4]           1,024\n",
            "       BasicBlock-43            [-1, 512, 4, 4]               0\n",
            "           Conv2d-44            [-1, 512, 4, 4]       2,359,296\n",
            "      BatchNorm2d-45            [-1, 512, 4, 4]           1,024\n",
            "           Conv2d-46            [-1, 512, 4, 4]       2,359,296\n",
            "      BatchNorm2d-47            [-1, 512, 4, 4]           1,024\n",
            "       BasicBlock-48            [-1, 512, 4, 4]               0\n",
            "           Linear-49                   [-1, 10]           5,130\n",
            "================================================================\n",
            "Total params: 11,173,962\n",
            "Trainable params: 11,173,962\n",
            "Non-trainable params: 0\n",
            "----------------------------------------------------------------\n",
            "Input size (MB): 0.01\n",
            "Forward/backward pass size (MB): 11.25\n",
            "Params size (MB): 42.63\n",
            "Estimated Total Size (MB): 53.89\n",
            "----------------------------------------------------------------\n",
            "Downloading https://www.cs.toronto.edu/~kriz/cifar-10-python.tar.gz to ./data/cifar-10-python.tar.gz\n"
          ],
          "name": "stdout"
        },
        {
          "output_type": "display_data",
          "data": {
            "application/vnd.jupyter.widget-view+json": {
              "model_id": "d8c18392fad448f69cc9c82edfa9e91f",
              "version_minor": 0,
              "version_major": 2
            },
            "text/plain": [
              "HBox(children=(IntProgress(value=1, bar_style='info', max=1), HTML(value='')))"
            ]
          },
          "metadata": {
            "tags": []
          }
        },
        {
          "output_type": "stream",
          "text": [
            "\n",
            "Extracting ./data/cifar-10-python.tar.gz to ./data\n",
            "Files already downloaded and verified\n"
          ],
          "name": "stdout"
        },
        {
          "output_type": "stream",
          "text": [
            "\r  0%|          | 0/782 [00:00<?, ?it/s]"
          ],
          "name": "stderr"
        },
        {
          "output_type": "stream",
          "text": [
            "EPOCH: 0\n"
          ],
          "name": "stdout"
        },
        {
          "output_type": "stream",
          "text": [
            "Loss=0.7651723623275757 Batch_id=781 Accuracy=52.77: 100%|██████████| 782/782 [01:07<00:00, 11.54it/s]\n",
            "Loss=0.6828662157058716 Batch_id=1 Accuracy=70.31:   0%|          | 2/782 [00:00<01:08, 11.42it/s]"
          ],
          "name": "stderr"
        },
        {
          "output_type": "stream",
          "text": [
            "\n",
            "Test set: Average loss: -4.1966, Accuracy: 6540/10000 (65.40%)\n",
            "\n",
            "EPOCH: 1\n"
          ],
          "name": "stdout"
        },
        {
          "output_type": "stream",
          "text": [
            "Loss=0.4453192949295044 Batch_id=781 Accuracy=73.51: 100%|██████████| 782/782 [01:09<00:00, 12.58it/s]\n",
            "Loss=0.43890419602394104 Batch_id=1 Accuracy=81.25:   0%|          | 1/782 [00:00<01:18,  9.95it/s]"
          ],
          "name": "stderr"
        },
        {
          "output_type": "stream",
          "text": [
            "\n",
            "Test set: Average loss: -5.8825, Accuracy: 7458/10000 (74.58%)\n",
            "\n",
            "EPOCH: 2\n"
          ],
          "name": "stdout"
        },
        {
          "output_type": "stream",
          "text": [
            "Loss=0.3932861089706421 Batch_id=781 Accuracy=81.17: 100%|██████████| 782/782 [01:09<00:00, 11.17it/s]\n",
            "Loss=0.36898332834243774 Batch_id=1 Accuracy=82.03:   0%|          | 2/782 [00:00<01:09, 11.27it/s]"
          ],
          "name": "stderr"
        },
        {
          "output_type": "stream",
          "text": [
            "\n",
            "Test set: Average loss: -7.0529, Accuracy: 7971/10000 (79.71%)\n",
            "\n",
            "EPOCH: 3\n"
          ],
          "name": "stdout"
        },
        {
          "output_type": "stream",
          "text": [
            "Loss=0.6923843622207642 Batch_id=781 Accuracy=86.11: 100%|██████████| 782/782 [01:10<00:00, 12.32it/s]\n",
            "Loss=0.24753251671791077 Batch_id=1 Accuracy=89.84:   0%|          | 2/782 [00:00<01:12, 10.75it/s]"
          ],
          "name": "stderr"
        },
        {
          "output_type": "stream",
          "text": [
            "\n",
            "Test set: Average loss: -8.7118, Accuracy: 8121/10000 (81.21%)\n",
            "\n",
            "EPOCH: 4\n"
          ],
          "name": "stdout"
        },
        {
          "output_type": "stream",
          "text": [
            "Loss=0.3302212655544281 Batch_id=781 Accuracy=89.82: 100%|██████████| 782/782 [01:11<00:00, 12.15it/s]\n",
            "Loss=0.32324323058128357 Batch_id=1 Accuracy=92.19:   0%|          | 2/782 [00:00<01:13, 10.64it/s]"
          ],
          "name": "stderr"
        },
        {
          "output_type": "stream",
          "text": [
            "\n",
            "Test set: Average loss: -9.6295, Accuracy: 7963/10000 (79.63%)\n",
            "\n",
            "EPOCH: 5\n"
          ],
          "name": "stdout"
        },
        {
          "output_type": "stream",
          "text": [
            "Loss=0.4221039116382599 Batch_id=781 Accuracy=92.85: 100%|██████████| 782/782 [01:11<00:00, 12.17it/s]\n",
            "Loss=0.20550081133842468 Batch_id=1 Accuracy=95.31:   0%|          | 2/782 [00:00<01:11, 10.98it/s]"
          ],
          "name": "stderr"
        },
        {
          "output_type": "stream",
          "text": [
            "\n",
            "Test set: Average loss: -10.5382, Accuracy: 7888/10000 (78.88%)\n",
            "\n",
            "EPOCH: 6\n"
          ],
          "name": "stdout"
        },
        {
          "output_type": "stream",
          "text": [
            "Loss=0.15630605816841125 Batch_id=781 Accuracy=94.81: 100%|██████████| 782/782 [01:11<00:00, 12.13it/s]\n",
            "Loss=0.08284130692481995 Batch_id=1 Accuracy=96.88:   0%|          | 2/782 [00:00<01:10, 11.00it/s]"
          ],
          "name": "stderr"
        },
        {
          "output_type": "stream",
          "text": [
            "\n",
            "Test set: Average loss: -12.4249, Accuracy: 8005/10000 (80.05%)\n",
            "\n",
            "EPOCH: 7\n"
          ],
          "name": "stdout"
        },
        {
          "output_type": "stream",
          "text": [
            "Loss=0.004976332187652588 Batch_id=781 Accuracy=96.52: 100%|██████████| 782/782 [01:11<00:00, 12.17it/s]\n",
            "Loss=0.07951920479536057 Batch_id=1 Accuracy=97.66:   0%|          | 2/782 [00:00<01:12, 10.81it/s]"
          ],
          "name": "stderr"
        },
        {
          "output_type": "stream",
          "text": [
            "\n",
            "Test set: Average loss: -13.0317, Accuracy: 8130/10000 (81.30%)\n",
            "\n",
            "EPOCH: 8\n"
          ],
          "name": "stdout"
        },
        {
          "output_type": "stream",
          "text": [
            "Loss=0.0019849538803100586 Batch_id=781 Accuracy=97.28: 100%|██████████| 782/782 [01:11<00:00, 12.12it/s]\n",
            "Loss=0.05859377235174179 Batch_id=1 Accuracy=98.44:   0%|          | 2/782 [00:00<01:13, 10.60it/s]"
          ],
          "name": "stderr"
        },
        {
          "output_type": "stream",
          "text": [
            "\n",
            "Test set: Average loss: -13.6039, Accuracy: 8096/10000 (80.96%)\n",
            "\n",
            "EPOCH: 9\n"
          ],
          "name": "stdout"
        },
        {
          "output_type": "stream",
          "text": [
            "Loss=0.028850644826889038 Batch_id=781 Accuracy=98.29: 100%|██████████| 782/782 [01:11<00:00, 12.14it/s]\n",
            "Loss=0.03656589239835739 Batch_id=1 Accuracy=99.22:   0%|          | 2/782 [00:00<01:13, 10.55it/s]"
          ],
          "name": "stderr"
        },
        {
          "output_type": "stream",
          "text": [
            "\n",
            "Test set: Average loss: -14.3536, Accuracy: 8165/10000 (81.65%)\n",
            "\n",
            "EPOCH: 10\n"
          ],
          "name": "stdout"
        },
        {
          "output_type": "stream",
          "text": [
            "Loss=0.03949004411697388 Batch_id=781 Accuracy=98.72: 100%|██████████| 782/782 [01:12<00:00, 12.15it/s]\n",
            "Loss=0.03258052468299866 Batch_id=1 Accuracy=96.09:   0%|          | 2/782 [00:00<01:11, 10.86it/s]"
          ],
          "name": "stderr"
        },
        {
          "output_type": "stream",
          "text": [
            "\n",
            "Test set: Average loss: -15.5460, Accuracy: 8257/10000 (82.57%)\n",
            "\n",
            "EPOCH: 11\n"
          ],
          "name": "stdout"
        },
        {
          "output_type": "stream",
          "text": [
            "Loss=0.036685049533843994 Batch_id=781 Accuracy=99.00: 100%|██████████| 782/782 [01:12<00:00, 12.06it/s]\n",
            "Loss=0.005033180117607117 Batch_id=1 Accuracy=100.00:   0%|          | 2/782 [00:00<01:14, 10.50it/s]"
          ],
          "name": "stderr"
        },
        {
          "output_type": "stream",
          "text": [
            "\n",
            "Test set: Average loss: -16.1035, Accuracy: 8269/10000 (82.69%)\n",
            "\n",
            "EPOCH: 12\n"
          ],
          "name": "stdout"
        },
        {
          "output_type": "stream",
          "text": [
            "Loss=0.01838773488998413 Batch_id=781 Accuracy=99.24: 100%|██████████| 782/782 [01:11<00:00, 12.08it/s]\n",
            "Loss=0.004500873386859894 Batch_id=1 Accuracy=99.22:   0%|          | 2/782 [00:00<01:11, 10.87it/s]"
          ],
          "name": "stderr"
        },
        {
          "output_type": "stream",
          "text": [
            "\n",
            "Test set: Average loss: -16.9845, Accuracy: 8324/10000 (83.24%)\n",
            "\n",
            "EPOCH: 13\n"
          ],
          "name": "stdout"
        },
        {
          "output_type": "stream",
          "text": [
            "Loss=0.08563518524169922 Batch_id=781 Accuracy=98.92: 100%|██████████| 782/782 [01:11<00:00, 12.19it/s]\n",
            "Loss=0.03137633949518204 Batch_id=1 Accuracy=99.22:   0%|          | 2/782 [00:00<01:13, 10.57it/s]"
          ],
          "name": "stderr"
        },
        {
          "output_type": "stream",
          "text": [
            "\n",
            "Test set: Average loss: -16.6247, Accuracy: 8135/10000 (81.35%)\n",
            "\n",
            "EPOCH: 14\n"
          ],
          "name": "stdout"
        },
        {
          "output_type": "stream",
          "text": [
            "Loss=0.03539919853210449 Batch_id=781 Accuracy=99.16: 100%|██████████| 782/782 [01:11<00:00, 12.08it/s]\n",
            "Loss=0.06481960415840149 Batch_id=1 Accuracy=99.22:   0%|          | 2/782 [00:00<01:11, 10.90it/s]"
          ],
          "name": "stderr"
        },
        {
          "output_type": "stream",
          "text": [
            "\n",
            "Test set: Average loss: -16.9296, Accuracy: 8296/10000 (82.96%)\n",
            "\n",
            "EPOCH: 15\n"
          ],
          "name": "stdout"
        },
        {
          "output_type": "stream",
          "text": [
            "Loss=0.001752018928527832 Batch_id=781 Accuracy=99.40: 100%|██████████| 782/782 [01:12<00:00, 12.11it/s]\n",
            "Loss=0.01994071900844574 Batch_id=1 Accuracy=99.22:   0%|          | 2/782 [00:00<01:12, 10.73it/s]"
          ],
          "name": "stderr"
        },
        {
          "output_type": "stream",
          "text": [
            "\n",
            "Test set: Average loss: -17.9115, Accuracy: 8397/10000 (83.97%)\n",
            "\n",
            "EPOCH: 16\n"
          ],
          "name": "stdout"
        },
        {
          "output_type": "stream",
          "text": [
            "Loss=0.0916474461555481 Batch_id=781 Accuracy=99.56: 100%|██████████| 782/782 [01:11<00:00, 12.17it/s]\n",
            "Loss=0.05051082372665405 Batch_id=1 Accuracy=99.22:   0%|          | 2/782 [00:00<01:11, 10.93it/s]"
          ],
          "name": "stderr"
        },
        {
          "output_type": "stream",
          "text": [
            "\n",
            "Test set: Average loss: -17.5583, Accuracy: 8373/10000 (83.73%)\n",
            "\n",
            "EPOCH: 17\n"
          ],
          "name": "stdout"
        },
        {
          "output_type": "stream",
          "text": [
            "Loss=0.005097866058349609 Batch_id=781 Accuracy=99.54: 100%|██████████| 782/782 [01:11<00:00, 12.22it/s]\n",
            "Loss=0.0006350874900817871 Batch_id=1 Accuracy=100.00:   0%|          | 2/782 [00:00<01:13, 10.62it/s]"
          ],
          "name": "stderr"
        },
        {
          "output_type": "stream",
          "text": [
            "\n",
            "Test set: Average loss: -18.2667, Accuracy: 8398/10000 (83.98%)\n",
            "\n",
            "EPOCH: 18\n"
          ],
          "name": "stdout"
        },
        {
          "output_type": "stream",
          "text": [
            "Loss=9.781122207641602e-05 Batch_id=781 Accuracy=99.89: 100%|██████████| 782/782 [01:11<00:00, 12.14it/s]\n",
            "Loss=0.000662490725517273 Batch_id=1 Accuracy=100.00:   0%|          | 2/782 [00:00<01:11, 10.85it/s]"
          ],
          "name": "stderr"
        },
        {
          "output_type": "stream",
          "text": [
            "\n",
            "Test set: Average loss: -18.6492, Accuracy: 8504/10000 (85.04%)\n",
            "\n",
            "EPOCH: 19\n"
          ],
          "name": "stdout"
        },
        {
          "output_type": "stream",
          "text": [
            "Loss=1.245737075805664e-05 Batch_id=781 Accuracy=99.92: 100%|██████████| 782/782 [01:11<00:00, 12.04it/s]\n",
            "Loss=0.004414603114128113 Batch_id=1 Accuracy=100.00:   0%|          | 2/782 [00:00<01:14, 10.48it/s]"
          ],
          "name": "stderr"
        },
        {
          "output_type": "stream",
          "text": [
            "\n",
            "Test set: Average loss: -19.1195, Accuracy: 8541/10000 (85.41%)\n",
            "\n",
            "EPOCH: 20\n"
          ],
          "name": "stdout"
        },
        {
          "output_type": "stream",
          "text": [
            "Loss=0.000814974308013916 Batch_id=781 Accuracy=99.96: 100%|██████████| 782/782 [01:11<00:00, 12.23it/s]\n",
            "Loss=0.00012071430683135986 Batch_id=1 Accuracy=100.00:   0%|          | 2/782 [00:00<01:11, 10.93it/s]"
          ],
          "name": "stderr"
        },
        {
          "output_type": "stream",
          "text": [
            "\n",
            "Test set: Average loss: -18.9986, Accuracy: 8499/10000 (84.99%)\n",
            "\n",
            "EPOCH: 21\n"
          ],
          "name": "stdout"
        },
        {
          "output_type": "stream",
          "text": [
            "Loss=0.0065310001373291016 Batch_id=781 Accuracy=99.96: 100%|██████████| 782/782 [01:11<00:00, 11.97it/s]\n",
            "Loss=0.0001156926155090332 Batch_id=1 Accuracy=100.00:   0%|          | 2/782 [00:00<01:12, 10.69it/s]"
          ],
          "name": "stderr"
        },
        {
          "output_type": "stream",
          "text": [
            "\n",
            "Test set: Average loss: -19.3497, Accuracy: 8594/10000 (85.94%)\n",
            "\n",
            "EPOCH: 22\n"
          ],
          "name": "stdout"
        },
        {
          "output_type": "stream",
          "text": [
            "Loss=8.32676887512207e-05 Batch_id=781 Accuracy=99.99: 100%|██████████| 782/782 [01:11<00:00, 12.14it/s]\n",
            "Loss=9.767711162567139e-05 Batch_id=1 Accuracy=100.00:   0%|          | 2/782 [00:00<01:11, 10.98it/s]"
          ],
          "name": "stderr"
        },
        {
          "output_type": "stream",
          "text": [
            "\n",
            "Test set: Average loss: -19.1351, Accuracy: 8595/10000 (85.95%)\n",
            "\n",
            "EPOCH: 23\n"
          ],
          "name": "stdout"
        },
        {
          "output_type": "stream",
          "text": [
            "Loss=0.0018911957740783691 Batch_id=781 Accuracy=100.00: 100%|██████████| 782/782 [01:12<00:00, 12.08it/s]\n",
            "Loss=4.889070987701416e-05 Batch_id=1 Accuracy=100.00:   0%|          | 2/782 [00:00<01:11, 10.85it/s]"
          ],
          "name": "stderr"
        },
        {
          "output_type": "stream",
          "text": [
            "\n",
            "Test set: Average loss: -19.3743, Accuracy: 8630/10000 (86.30%)\n",
            "\n",
            "EPOCH: 24\n"
          ],
          "name": "stdout"
        },
        {
          "output_type": "stream",
          "text": [
            "Loss=1.8537044525146484e-05 Batch_id=781 Accuracy=100.00: 100%|██████████| 782/782 [01:11<00:00, 12.08it/s]\n",
            "Loss=0.0001688152551651001 Batch_id=1 Accuracy=100.00:   0%|          | 2/782 [00:00<01:10, 11.00it/s]"
          ],
          "name": "stderr"
        },
        {
          "output_type": "stream",
          "text": [
            "\n",
            "Test set: Average loss: -19.3740, Accuracy: 8612/10000 (86.12%)\n",
            "\n",
            "EPOCH: 25\n"
          ],
          "name": "stdout"
        },
        {
          "output_type": "stream",
          "text": [
            "Loss=0.004179775714874268 Batch_id=781 Accuracy=100.00: 100%|██████████| 782/782 [01:12<00:00, 12.11it/s]\n",
            "Loss=0.000188484787940979 Batch_id=1 Accuracy=100.00:   0%|          | 2/782 [00:00<01:10, 11.08it/s]"
          ],
          "name": "stderr"
        },
        {
          "output_type": "stream",
          "text": [
            "\n",
            "Test set: Average loss: -19.5762, Accuracy: 8622/10000 (86.22%)\n",
            "\n",
            "EPOCH: 26\n"
          ],
          "name": "stdout"
        },
        {
          "output_type": "stream",
          "text": [
            "Loss=7.772445678710938e-05 Batch_id=781 Accuracy=100.00: 100%|██████████| 782/782 [01:12<00:00, 12.10it/s]\n",
            "Loss=0.0002073347568511963 Batch_id=1 Accuracy=100.00:   0%|          | 2/782 [00:00<01:11, 10.98it/s]"
          ],
          "name": "stderr"
        },
        {
          "output_type": "stream",
          "text": [
            "\n",
            "Test set: Average loss: -19.6248, Accuracy: 8599/10000 (85.99%)\n",
            "\n",
            "EPOCH: 27\n"
          ],
          "name": "stdout"
        },
        {
          "output_type": "stream",
          "text": [
            "Loss=0.024475514888763428 Batch_id=781 Accuracy=100.00: 100%|██████████| 782/782 [01:11<00:00, 12.09it/s]\n",
            "Loss=6.133317947387695e-05 Batch_id=1 Accuracy=100.00:   0%|          | 2/782 [00:00<01:11, 10.98it/s]"
          ],
          "name": "stderr"
        },
        {
          "output_type": "stream",
          "text": [
            "\n",
            "Test set: Average loss: -19.8531, Accuracy: 8610/10000 (86.10%)\n",
            "\n",
            "EPOCH: 28\n"
          ],
          "name": "stdout"
        },
        {
          "output_type": "stream",
          "text": [
            "Loss=0.0015168190002441406 Batch_id=781 Accuracy=99.91: 100%|██████████| 782/782 [01:11<00:00, 12.17it/s]\n",
            "Loss=0.00040866434574127197 Batch_id=1 Accuracy=100.00:   0%|          | 2/782 [00:00<01:12, 10.80it/s]"
          ],
          "name": "stderr"
        },
        {
          "output_type": "stream",
          "text": [
            "\n",
            "Test set: Average loss: -19.3234, Accuracy: 8506/10000 (85.06%)\n",
            "\n",
            "EPOCH: 29\n"
          ],
          "name": "stdout"
        },
        {
          "output_type": "stream",
          "text": [
            "Loss=0.0006255507469177246 Batch_id=781 Accuracy=99.96: 100%|██████████| 782/782 [01:11<00:00, 12.18it/s]\n"
          ],
          "name": "stderr"
        },
        {
          "output_type": "stream",
          "text": [
            "\n",
            "Test set: Average loss: -19.5128, Accuracy: 8577/10000 (85.77%)\n",
            "\n"
          ],
          "name": "stdout"
        }
      ]
    },
    {
      "cell_type": "code",
      "metadata": {
        "id": "cxXeVbt5CZgQ",
        "colab_type": "code",
        "colab": {}
      },
      "source": [
        ""
      ],
      "execution_count": 0,
      "outputs": []
    }
  ]
}