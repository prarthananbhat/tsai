{
  "nbformat": 4,
  "nbformat_minor": 0,
  "metadata": {
    "colab": {
      "name": "quiz9_dnn.ipynb",
      "provenance": []
    },
    "kernelspec": {
      "name": "python3",
      "display_name": "Python 3"
    },
    "accelerator": "GPU"
  },
  "cells": [
    {
      "cell_type": "code",
      "metadata": {
        "id": "WMzAAr4Zuxwu",
        "colab_type": "code",
        "outputId": "d2dae12f-2566-4a4f-d9dd-158911f9dfb0",
        "colab": {
          "base_uri": "https://localhost:8080/",
          "height": 34
        }
      },
      "source": [
        "from datetime import datetime\n",
        "print(\"Current Date/Time: \", datetime.now())"
      ],
      "execution_count": 1,
      "outputs": [
        {
          "output_type": "stream",
          "text": [
            "Current Date/Time:  2020-04-01 17:41:35.203748\n"
          ],
          "name": "stdout"
        }
      ]
    },
    {
      "cell_type": "code",
      "metadata": {
        "id": "73r2xIoouzSB",
        "colab_type": "code",
        "colab": {}
      },
      "source": [
        "import torch\n",
        "import torchvision\n",
        "from torchvision import datasets, transforms\n",
        "import torchvision.transforms as transforms\n",
        "\n",
        "transform = transforms.Compose(\n",
        "    [transforms.ToTensor(),\n",
        "     transforms.Normalize((0.5, 0.5, 0.5), (0.5, 0.5, 0.5))])\n",
        "\n",
        "def get_train_loader():\n",
        "\n",
        "    trainset = torchvision.datasets.CIFAR10(root='./data', train=True,\n",
        "                                            download=True, transform=transform)\n",
        "    train_loader = torch.utils.data.DataLoader(trainset, batch_size=32,\n",
        "                                              shuffle=True, num_workers=0)\n",
        "    return train_loader\n",
        "\n",
        "def get_test_loader():\n",
        "    testset = torchvision.datasets.CIFAR10(root='./data', train=False,\n",
        "                                           download=True, transform=transform)\n",
        "    test_loader = torch.utils.data.DataLoader(testset, batch_size=32,\n",
        "                                             shuffle=False, num_workers=0)\n",
        "    return test_loader\n",
        "\n",
        "def get_classes():\n",
        "    classes = ('plane', 'car', 'bird', 'cat',\n",
        "           'deer', 'dog', 'frog', 'horse', 'ship', 'truck')\n",
        "    return classes\n"
      ],
      "execution_count": 0,
      "outputs": []
    },
    {
      "cell_type": "code",
      "metadata": {
        "id": "qnSR69UFtxUr",
        "colab_type": "code",
        "colab": {}
      },
      "source": [
        "import sys\n",
        "sys.path.append('/content/drive/My Drive')\n"
      ],
      "execution_count": 0,
      "outputs": []
    },
    {
      "cell_type": "code",
      "metadata": {
        "id": "ioI5Ph9Nxf8S",
        "colab_type": "code",
        "outputId": "cf7d4708-dc8b-4914-d4fe-c52077116b1d",
        "colab": {
          "base_uri": "https://localhost:8080/",
          "height": 916
        }
      },
      "source": [
        "\n",
        "from quiz9_dnn import Net\n",
        "from torchsummary import summary\n",
        "CUDA = torch.cuda.is_available()\n",
        "device = torch.device(\"cuda\" if CUDA else \"cpu\")\n",
        "print(device)\n",
        "model = Net().to(device)\n",
        "summary(model, input_size=(3, 32, 32))"
      ],
      "execution_count": 4,
      "outputs": [
        {
          "output_type": "stream",
          "text": [
            "cuda\n",
            "----------------------------------------------------------------\n",
            "        Layer (type)               Output Shape         Param #\n",
            "================================================================\n",
            "            Conv2d-1           [-1, 64, 32, 32]           1,728\n",
            "              ReLU-2           [-1, 64, 32, 32]               0\n",
            "       BatchNorm2d-3           [-1, 64, 32, 32]             128\n",
            "           Dropout-4           [-1, 64, 32, 32]               0\n",
            "            Conv2d-5           [-1, 64, 32, 32]          36,864\n",
            "              ReLU-6           [-1, 64, 32, 32]               0\n",
            "       BatchNorm2d-7           [-1, 64, 32, 32]             128\n",
            "           Dropout-8           [-1, 64, 32, 32]               0\n",
            "            Conv2d-9           [-1, 64, 32, 32]          36,864\n",
            "             ReLU-10           [-1, 64, 32, 32]               0\n",
            "      BatchNorm2d-11           [-1, 64, 32, 32]             128\n",
            "        MaxPool2d-12           [-1, 64, 16, 16]               0\n",
            "           Conv2d-13           [-1, 64, 16, 16]          36,864\n",
            "             ReLU-14           [-1, 64, 16, 16]               0\n",
            "      BatchNorm2d-15           [-1, 64, 16, 16]             128\n",
            "          Dropout-16           [-1, 64, 16, 16]               0\n",
            "           Conv2d-17           [-1, 64, 16, 16]          36,864\n",
            "             ReLU-18           [-1, 64, 16, 16]               0\n",
            "      BatchNorm2d-19           [-1, 64, 16, 16]             128\n",
            "          Dropout-20           [-1, 64, 16, 16]               0\n",
            "           Conv2d-21           [-1, 64, 16, 16]          36,864\n",
            "             ReLU-22           [-1, 64, 16, 16]               0\n",
            "      BatchNorm2d-23           [-1, 64, 16, 16]             128\n",
            "        MaxPool2d-24             [-1, 64, 8, 8]               0\n",
            "           Conv2d-25             [-1, 64, 8, 8]          36,864\n",
            "             ReLU-26             [-1, 64, 8, 8]               0\n",
            "      BatchNorm2d-27             [-1, 64, 8, 8]             128\n",
            "          Dropout-28             [-1, 64, 8, 8]               0\n",
            "           Conv2d-29             [-1, 64, 8, 8]          36,864\n",
            "             ReLU-30             [-1, 64, 8, 8]               0\n",
            "      BatchNorm2d-31             [-1, 64, 8, 8]             128\n",
            "          Dropout-32             [-1, 64, 8, 8]               0\n",
            "           Conv2d-33             [-1, 64, 8, 8]          36,864\n",
            "             ReLU-34             [-1, 64, 8, 8]               0\n",
            "      BatchNorm2d-35             [-1, 64, 8, 8]             128\n",
            "AdaptiveAvgPool2d-36             [-1, 64, 1, 1]               0\n",
            "           Linear-37                   [-1, 10]             650\n",
            "================================================================\n",
            "Total params: 298,442\n",
            "Trainable params: 298,442\n",
            "Non-trainable params: 0\n",
            "----------------------------------------------------------------\n",
            "Input size (MB): 0.01\n",
            "Forward/backward pass size (MB): 7.38\n",
            "Params size (MB): 1.14\n",
            "Estimated Total Size (MB): 8.53\n",
            "----------------------------------------------------------------\n"
          ],
          "name": "stdout"
        }
      ]
    },
    {
      "cell_type": "code",
      "metadata": {
        "id": "2gzG28STEg9H",
        "colab_type": "code",
        "colab": {}
      },
      "source": [
        "from __future__ import print_function\n",
        "import torch.nn as nn\n",
        "from tqdm import tqdm\n",
        "\n",
        "def train(model, device, train_loader, optimizer, epoch,train_losses,train_acc):\n",
        "    model.train()\n",
        "    pbar = tqdm(train_loader)\n",
        "    correct = 0\n",
        "    processed = 0\n",
        "    for batch_idx, (data, target) in enumerate(pbar):\n",
        "        data, target = data.to(device), target.to(device)\n",
        "\n",
        "        optimizer.zero_grad()\n",
        "        y_pred = model(data)\n",
        "\n",
        "        # Calculate loss\n",
        "        criteria = nn.CrossEntropyLoss()\n",
        "        loss = criteria(y_pred, target)\n",
        "        train_losses.append(loss)\n",
        "\n",
        "        # Backpropagation\n",
        "        loss.backward()\n",
        "        optimizer.step()\n",
        "\n",
        "        pred = y_pred.argmax(dim=1, keepdim=True)  # get the index of the max log-probability\n",
        "        correct += pred.eq(target.view_as(pred)).sum().item()\n",
        "        processed += len(data)\n",
        "\n",
        "        pbar.set_description(desc=f'Loss={loss.item()} Batch_id={batch_idx} Accuracy={100 * correct / processed:0.2f}')\n",
        "        train_acc.append(100 * correct / processed)\n",
        "    return train_acc\n",
        "\n",
        "\n"
      ],
      "execution_count": 0,
      "outputs": []
    },
    {
      "cell_type": "code",
      "metadata": {
        "id": "NB3a4AVrEjaF",
        "colab_type": "code",
        "colab": {}
      },
      "source": [
        "from __future__ import print_function\n",
        "import torch\n",
        "import torch.nn.functional as F\n",
        "\n",
        "\n",
        "def test(model, device, test_loader,test_losses,test_acc):\n",
        "    model.eval()\n",
        "    test_loss = 0\n",
        "    correct = 0\n",
        "    with torch.no_grad():\n",
        "        for data, target in test_loader:\n",
        "            data, target = data.to(device), target.to(device)\n",
        "            output = model(data)\n",
        "            test_loss += F.nll_loss(output, target, reduction='sum').item()  # sum up batch loss\n",
        "            pred = output.argmax(dim=1, keepdim=True)  # get the index of the max log-probability\n",
        "            correct += pred.eq(target.view_as(pred)).sum().item()\n",
        "\n",
        "    test_loss /= len(test_loader.dataset)\n",
        "    test_losses.append(test_loss)\n",
        "\n",
        "    print('\\nTest set: Average loss: {:.4f}, Accuracy: {}/{} ({:.2f}%)\\n'.format(\n",
        "        test_loss, correct, len(test_loader.dataset),\n",
        "        100. * correct / len(test_loader.dataset)))\n",
        "\n",
        "    test_acc.append(100. * correct / len(test_loader.dataset))\n",
        "    return test_acc"
      ],
      "execution_count": 0,
      "outputs": []
    },
    {
      "cell_type": "code",
      "metadata": {
        "id": "0CqwBIVzwXaI",
        "colab_type": "code",
        "outputId": "1155628f-30ec-4ab2-b160-2f21822eb43a",
        "colab": {
          "base_uri": "https://localhost:8080/",
          "height": 972
        }
      },
      "source": [
        "from __future__ import print_function\n",
        "\n",
        "import torch\n",
        "from torchsummary import summary\n",
        "import torch.optim as optim\n",
        "\n",
        "# from models.resnet18 import ResNet18\n",
        "# from data_loader.data_loader_cifar import get_train_loader\n",
        "# from data_loader.data_loader_cifar import get_test_loader\n",
        "# from training.training import train\n",
        "# from scoring.scoring import test\n",
        "\n",
        "\n",
        "# Set seed for all the environments\n",
        "SEED = 1\n",
        "torch.manual_seed(SEED)\n",
        "\n",
        "CUDA = torch.cuda.is_available()\n",
        "print(\"CUDA is available:\",CUDA)\n",
        "# If CUDA is available the set SEED for it\n",
        "if CUDA:\n",
        "    torch.cuda.manual_seed(SEED)\n",
        "\n",
        "from tqdm import tqdm\n",
        "\n",
        "train_losses = []\n",
        "test_losses = []\n",
        "train_acc = []\n",
        "test_acc = []\n",
        "\n",
        "train_loader = get_train_loader()\n",
        "test_loader = get_test_loader()\n",
        "optimizer = optim.SGD(model.parameters(), lr=0.01, momentum=0.9)\n",
        "EPOCHS = 10\n",
        "for epoch in range(EPOCHS):\n",
        "    print(\"EPOCH:\", epoch)\n",
        "    train(model, device, train_loader, optimizer, epoch,train_losses,train_acc)\n",
        "    test(model, device, test_loader,test_losses,test_acc)"
      ],
      "execution_count": 7,
      "outputs": [
        {
          "output_type": "stream",
          "text": [
            "CUDA is available: True\n",
            "Files already downloaded and verified\n",
            "Files already downloaded and verified\n"
          ],
          "name": "stdout"
        },
        {
          "output_type": "stream",
          "text": [
            "Loss=2.249957799911499 Batch_id=3 Accuracy=18.75:   0%|          | 3/1563 [00:00<01:10, 21.98it/s]"
          ],
          "name": "stderr"
        },
        {
          "output_type": "stream",
          "text": [
            "EPOCH: 0\n"
          ],
          "name": "stdout"
        },
        {
          "output_type": "stream",
          "text": [
            "Loss=1.6394864320755005 Batch_id=1562 Accuracy=54.46: 100%|██████████| 1563/1563 [01:05<00:00, 23.74it/s]\n",
            "Loss=0.972696840763092 Batch_id=3 Accuracy=64.84:   0%|          | 3/1563 [00:00<01:12, 21.48it/s] "
          ],
          "name": "stderr"
        },
        {
          "output_type": "stream",
          "text": [
            "\n",
            "Test set: Average loss: -4.4516, Accuracy: 5842/10000 (58.42%)\n",
            "\n",
            "EPOCH: 1\n"
          ],
          "name": "stdout"
        },
        {
          "output_type": "stream",
          "text": [
            "Loss=1.0474835634231567 Batch_id=1562 Accuracy=69.35: 100%|██████████| 1563/1563 [01:05<00:00, 23.80it/s]\n",
            "Loss=0.9334732890129089 Batch_id=3 Accuracy=78.12:   0%|          | 3/1563 [00:00<01:09, 22.60it/s]"
          ],
          "name": "stderr"
        },
        {
          "output_type": "stream",
          "text": [
            "\n",
            "Test set: Average loss: -5.2729, Accuracy: 6938/10000 (69.38%)\n",
            "\n",
            "EPOCH: 2\n"
          ],
          "name": "stdout"
        },
        {
          "output_type": "stream",
          "text": [
            "Loss=0.9254095554351807 Batch_id=1562 Accuracy=74.90: 100%|██████████| 1563/1563 [01:05<00:00, 23.92it/s]\n",
            "Loss=0.809821367263794 Batch_id=3 Accuracy=73.44:   0%|          | 3/1563 [00:00<01:11, 21.93it/s]"
          ],
          "name": "stderr"
        },
        {
          "output_type": "stream",
          "text": [
            "\n",
            "Test set: Average loss: -5.8438, Accuracy: 7322/10000 (73.22%)\n",
            "\n",
            "EPOCH: 3\n"
          ],
          "name": "stdout"
        },
        {
          "output_type": "stream",
          "text": [
            "Loss=0.46501970291137695 Batch_id=1562 Accuracy=78.40: 100%|██████████| 1563/1563 [01:05<00:00, 23.92it/s]\n",
            "Loss=0.755172073841095 Batch_id=3 Accuracy=82.81:   0%|          | 3/1563 [00:00<01:11, 21.71it/s] "
          ],
          "name": "stderr"
        },
        {
          "output_type": "stream",
          "text": [
            "\n",
            "Test set: Average loss: -6.2991, Accuracy: 7613/10000 (76.13%)\n",
            "\n",
            "EPOCH: 4\n"
          ],
          "name": "stdout"
        },
        {
          "output_type": "stream",
          "text": [
            "Loss=0.9424498081207275 Batch_id=1562 Accuracy=80.84: 100%|██████████| 1563/1563 [01:05<00:00, 23.90it/s]\n",
            "Loss=0.33884114027023315 Batch_id=3 Accuracy=88.28:   0%|          | 3/1563 [00:00<01:12, 21.60it/s]"
          ],
          "name": "stderr"
        },
        {
          "output_type": "stream",
          "text": [
            "\n",
            "Test set: Average loss: -7.2356, Accuracy: 7652/10000 (76.52%)\n",
            "\n",
            "EPOCH: 5\n"
          ],
          "name": "stdout"
        },
        {
          "output_type": "stream",
          "text": [
            "Loss=0.5759755373001099 Batch_id=1562 Accuracy=82.48: 100%|██████████| 1563/1563 [01:05<00:00, 23.86it/s]\n",
            "Loss=0.530971884727478 Batch_id=3 Accuracy=82.81:   0%|          | 3/1563 [00:00<01:10, 22.02it/s]  "
          ],
          "name": "stderr"
        },
        {
          "output_type": "stream",
          "text": [
            "\n",
            "Test set: Average loss: -7.6662, Accuracy: 7843/10000 (78.43%)\n",
            "\n",
            "EPOCH: 6\n"
          ],
          "name": "stdout"
        },
        {
          "output_type": "stream",
          "text": [
            "Loss=0.22075702250003815 Batch_id=1562 Accuracy=84.01: 100%|██████████| 1563/1563 [01:05<00:00, 23.97it/s]\n",
            "Loss=0.5716979503631592 Batch_id=3 Accuracy=81.25:   0%|          | 3/1563 [00:00<01:09, 22.32it/s] "
          ],
          "name": "stderr"
        },
        {
          "output_type": "stream",
          "text": [
            "\n",
            "Test set: Average loss: -7.6800, Accuracy: 7801/10000 (78.01%)\n",
            "\n",
            "EPOCH: 7\n"
          ],
          "name": "stdout"
        },
        {
          "output_type": "stream",
          "text": [
            "Loss=0.4109281301498413 Batch_id=1562 Accuracy=85.40: 100%|██████████| 1563/1563 [01:05<00:00, 23.96it/s]\n",
            "Loss=0.3179434835910797 Batch_id=3 Accuracy=86.72:   0%|          | 3/1563 [00:00<01:10, 22.26it/s] "
          ],
          "name": "stderr"
        },
        {
          "output_type": "stream",
          "text": [
            "\n",
            "Test set: Average loss: -8.3046, Accuracy: 7947/10000 (79.47%)\n",
            "\n",
            "EPOCH: 8\n"
          ],
          "name": "stdout"
        },
        {
          "output_type": "stream",
          "text": [
            "Loss=0.3895673453807831 Batch_id=1562 Accuracy=86.13: 100%|██████████| 1563/1563 [01:05<00:00, 23.99it/s]\n",
            "Loss=0.2841266989707947 Batch_id=3 Accuracy=90.62:   0%|          | 3/1563 [00:00<01:08, 22.63it/s] "
          ],
          "name": "stderr"
        },
        {
          "output_type": "stream",
          "text": [
            "\n",
            "Test set: Average loss: -8.1176, Accuracy: 7961/10000 (79.61%)\n",
            "\n",
            "EPOCH: 9\n"
          ],
          "name": "stdout"
        },
        {
          "output_type": "stream",
          "text": [
            "Loss=0.5241731405258179 Batch_id=1562 Accuracy=87.12: 100%|██████████| 1563/1563 [01:05<00:00, 23.97it/s]\n"
          ],
          "name": "stderr"
        },
        {
          "output_type": "stream",
          "text": [
            "\n",
            "Test set: Average loss: -8.3961, Accuracy: 7950/10000 (79.50%)\n",
            "\n"
          ],
          "name": "stdout"
        }
      ]
    },
    {
      "cell_type": "code",
      "metadata": {
        "id": "S037oyfY56GQ",
        "colab_type": "code",
        "colab": {
          "base_uri": "https://localhost:8080/",
          "height": 34
        },
        "outputId": "9244dd50-dec9-4106-a767-3808e67a8292"
      },
      "source": [
        "  3584/224\n"
      ],
      "execution_count": 8,
      "outputs": [
        {
          "output_type": "execute_result",
          "data": {
            "text/plain": [
              "16.0"
            ]
          },
          "metadata": {
            "tags": []
          },
          "execution_count": 8
        }
      ]
    },
    {
      "cell_type": "code",
      "metadata": {
        "id": "HmCoeJdridXk",
        "colab_type": "code",
        "colab": {
          "base_uri": "https://localhost:8080/",
          "height": 722
        },
        "outputId": "f9f30af3-52a2-4c5e-efbe-b41bff8e82da"
      },
      "source": [
        "Net()"
      ],
      "execution_count": 9,
      "outputs": [
        {
          "output_type": "execute_result",
          "data": {
            "text/plain": [
              "Net(\n",
              "  (conv_block_1): Sequential(\n",
              "    (0): Conv2d(3, 64, kernel_size=(3, 3), stride=(1, 1), padding=(1, 1), bias=False)\n",
              "    (1): ReLU()\n",
              "    (2): BatchNorm2d(64, eps=1e-05, momentum=0.1, affine=True, track_running_stats=True)\n",
              "    (3): Dropout(p=0.1, inplace=False)\n",
              "  )\n",
              "  (conv_block_2): Sequential(\n",
              "    (0): Conv2d(64, 64, kernel_size=(3, 3), stride=(1, 1), padding=(1, 1), bias=False)\n",
              "    (1): ReLU()\n",
              "    (2): BatchNorm2d(64, eps=1e-05, momentum=0.1, affine=True, track_running_stats=True)\n",
              "    (3): Dropout(p=0.1, inplace=False)\n",
              "  )\n",
              "  (conv_block_3): Sequential(\n",
              "    (0): Conv2d(64, 64, kernel_size=(3, 3), stride=(1, 1), padding=(1, 1), bias=False)\n",
              "    (1): ReLU()\n",
              "    (2): BatchNorm2d(64, eps=1e-05, momentum=0.1, affine=True, track_running_stats=True)\n",
              "  )\n",
              "  (pool_1): MaxPool2d(kernel_size=2, stride=2, padding=0, dilation=1, ceil_mode=False)\n",
              "  (conv_block_4): Sequential(\n",
              "    (0): Conv2d(64, 64, kernel_size=(3, 3), stride=(1, 1), padding=(1, 1), bias=False)\n",
              "    (1): ReLU()\n",
              "    (2): BatchNorm2d(64, eps=1e-05, momentum=0.1, affine=True, track_running_stats=True)\n",
              "    (3): Dropout(p=0.1, inplace=False)\n",
              "  )\n",
              "  (conv_block_5): Sequential(\n",
              "    (0): Conv2d(64, 64, kernel_size=(3, 3), stride=(1, 1), padding=(1, 1), bias=False)\n",
              "    (1): ReLU()\n",
              "    (2): BatchNorm2d(64, eps=1e-05, momentum=0.1, affine=True, track_running_stats=True)\n",
              "    (3): Dropout(p=0.1, inplace=False)\n",
              "  )\n",
              "  (conv_block_6): Sequential(\n",
              "    (0): Conv2d(64, 64, kernel_size=(3, 3), stride=(1, 1), padding=(1, 1), bias=False)\n",
              "    (1): ReLU()\n",
              "    (2): BatchNorm2d(64, eps=1e-05, momentum=0.1, affine=True, track_running_stats=True)\n",
              "  )\n",
              "  (pool_2): MaxPool2d(kernel_size=2, stride=2, padding=0, dilation=1, ceil_mode=False)\n",
              "  (gap): AdaptiveAvgPool2d(output_size=1)\n",
              "  (fc): Linear(in_features=64, out_features=10, bias=True)\n",
              ")"
            ]
          },
          "metadata": {
            "tags": []
          },
          "execution_count": 9
        }
      ]
    },
    {
      "cell_type": "code",
      "metadata": {
        "id": "fyHVHkE2yAsA",
        "colab_type": "code",
        "colab": {}
      },
      "source": [
        ""
      ],
      "execution_count": 0,
      "outputs": []
    }
  ]
}